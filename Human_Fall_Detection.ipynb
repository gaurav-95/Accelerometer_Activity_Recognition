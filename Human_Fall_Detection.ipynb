{
 "cells": [
  {
   "cell_type": "markdown",
   "metadata": {
    "id": "yAwf21AiCwAV"
   },
   "source": [
    "## Human Fall Recognition Using Accelerometer Data"
   ]
  },
  {
   "cell_type": "markdown",
   "metadata": {
    "id": "RNjqIGeZCwAh"
   },
   "source": [
    "Dataset Link: https://sites.google.com/up.edu.mx/har-up/\n",
    "\n",
    "or else google \"Fall UP dataset\""
   ]
  },
  {
   "cell_type": "code",
   "execution_count": 1,
   "metadata": {
    "colab": {
     "base_uri": "https://localhost:8080/"
    },
    "executionInfo": {
     "elapsed": 2652,
     "status": "ok",
     "timestamp": 1617467949900,
     "user": {
      "displayName": "Gaurav Hazra",
      "photoUrl": "https://lh3.googleusercontent.com/a-/AOh14Gi_odLjqYpDOFHsrWzDr8ElbKesGIy6cg_sCWU5kg=s64",
      "userId": "05091429207485877833"
     },
     "user_tz": -330
    },
    "id": "dCTgR-Z-CwAj",
    "outputId": "00bfe63d-5607-4b9d-c2ca-0188cca7b639"
   },
   "outputs": [
    {
     "name": "stdout",
     "output_type": "stream",
     "text": [
      "2.4.1\n"
     ]
    }
   ],
   "source": [
    "import pandas as pd\n",
    "import numpy as np\n",
    "import matplotlib.pyplot as plt\n",
    "from sklearn.model_selection import train_test_split\n",
    "from sklearn import preprocessing\n",
    "from sklearn.preprocessing import StandardScaler, MaxAbsScaler, LabelEncoder, MinMaxScaler\n",
    "\n",
    "import tensorflow as tf\n",
    "from tensorflow.keras.models import Sequential\n",
    "from tensorflow.keras import layers\n",
    "from tensorflow.keras.layers import Flatten, Dense, Dropout, BatchNormalization\n",
    "from tensorflow.keras.layers import Conv2D, MaxPool2D\n",
    "from tensorflow.keras.optimizers import Adam\n",
    "import os\n",
    "print(tf.__version__)"
   ]
  },
  {
   "cell_type": "code",
   "execution_count": 2,
   "metadata": {},
   "outputs": [
    {
     "data": {
      "text/plain": [
       "'C:\\\\Users\\\\Gaurav\\\\Downloads\\\\Accelerometer\\\\Testing_Folder\\\\Accelerometer'"
      ]
     },
     "execution_count": 2,
     "metadata": {},
     "output_type": "execute_result"
    }
   ],
   "source": [
    "os.getcwd()"
   ]
  },
  {
   "cell_type": "markdown",
   "metadata": {
    "id": "nkZdKGTfCwAm"
   },
   "source": [
    "#### Load the Dataset "
   ]
  },
  {
   "cell_type": "code",
   "execution_count": 3,
   "metadata": {
    "executionInfo": {
     "elapsed": 2636,
     "status": "ok",
     "timestamp": 1617467949902,
     "user": {
      "displayName": "Gaurav Hazra",
      "photoUrl": "https://lh3.googleusercontent.com/a-/AOh14Gi_odLjqYpDOFHsrWzDr8ElbKesGIy6cg_sCWU5kg=s64",
      "userId": "05091429207485877833"
     },
     "user_tz": -330
    },
    "id": "N3updFSojZqJ"
   },
   "outputs": [],
   "source": [
    "### Enter file path here ###\n",
    "\n",
    "path=\"C:/Users/Gaurav/Downloads/Accelerometer/Testing_Folder/Accelerometer/\""
   ]
  },
  {
   "cell_type": "code",
   "execution_count": 4,
   "metadata": {
    "colab": {
     "base_uri": "https://localhost:8080/",
     "height": 195
    },
    "executionInfo": {
     "elapsed": 3290,
     "status": "ok",
     "timestamp": 1617467950563,
     "user": {
      "displayName": "Gaurav Hazra",
      "photoUrl": "https://lh3.googleusercontent.com/a-/AOh14Gi_odLjqYpDOFHsrWzDr8ElbKesGIy6cg_sCWU5kg=s64",
      "userId": "05091429207485877833"
     },
     "user_tz": -330
    },
    "id": "U8b2AF8SCwAn",
    "outputId": "36d52c41-c958-4fb1-b899-62699dfc9eea"
   },
   "outputs": [],
   "source": [
    "data=pd.read_csv(path+'accelall.csv')\n",
    "# del data[\"Unnamed: 0\"]\n",
    "# data.head()"
   ]
  },
  {
   "cell_type": "code",
   "execution_count": 5,
   "metadata": {
    "colab": {
     "base_uri": "https://localhost:8080/",
     "height": 195
    },
    "executionInfo": {
     "elapsed": 3281,
     "status": "ok",
     "timestamp": 1617467950564,
     "user": {
      "displayName": "Gaurav Hazra",
      "photoUrl": "https://lh3.googleusercontent.com/a-/AOh14Gi_odLjqYpDOFHsrWzDr8ElbKesGIy6cg_sCWU5kg=s64",
      "userId": "05091429207485877833"
     },
     "user_tz": -330
    },
    "id": "oObgNbIRCwAq",
    "outputId": "159dad40-3337-41e1-bc22-6fe2a930c157"
   },
   "outputs": [
    {
     "data": {
      "text/html": [
       "<div>\n",
       "<style scoped>\n",
       "    .dataframe tbody tr th:only-of-type {\n",
       "        vertical-align: middle;\n",
       "    }\n",
       "\n",
       "    .dataframe tbody tr th {\n",
       "        vertical-align: top;\n",
       "    }\n",
       "\n",
       "    .dataframe thead th {\n",
       "        text-align: right;\n",
       "    }\n",
       "</style>\n",
       "<table border=\"1\" class=\"dataframe\">\n",
       "  <thead>\n",
       "    <tr style=\"text-align: right;\">\n",
       "      <th></th>\n",
       "      <th>user</th>\n",
       "      <th>label</th>\n",
       "      <th>time</th>\n",
       "      <th>x</th>\n",
       "      <th>y</th>\n",
       "      <th>z</th>\n",
       "    </tr>\n",
       "  </thead>\n",
       "  <tbody>\n",
       "    <tr>\n",
       "      <th>0</th>\n",
       "      <td>17</td>\n",
       "      <td>1</td>\n",
       "      <td>2018-07-12T11:54:19.944390</td>\n",
       "      <td>-0.914</td>\n",
       "      <td>-0.444</td>\n",
       "      <td>0.225</td>\n",
       "    </tr>\n",
       "    <tr>\n",
       "      <th>1</th>\n",
       "      <td>17</td>\n",
       "      <td>1</td>\n",
       "      <td>2018-07-12T11:54:19.990012</td>\n",
       "      <td>-0.914</td>\n",
       "      <td>-0.444</td>\n",
       "      <td>0.225</td>\n",
       "    </tr>\n",
       "    <tr>\n",
       "      <th>2</th>\n",
       "      <td>17</td>\n",
       "      <td>1</td>\n",
       "      <td>2018-07-12T11:54:20.041148</td>\n",
       "      <td>-0.917</td>\n",
       "      <td>-0.439</td>\n",
       "      <td>0.226</td>\n",
       "    </tr>\n",
       "    <tr>\n",
       "      <th>3</th>\n",
       "      <td>17</td>\n",
       "      <td>1</td>\n",
       "      <td>2018-07-12T11:54:20.084765</td>\n",
       "      <td>-0.917</td>\n",
       "      <td>-0.439</td>\n",
       "      <td>0.226</td>\n",
       "    </tr>\n",
       "    <tr>\n",
       "      <th>4</th>\n",
       "      <td>17</td>\n",
       "      <td>1</td>\n",
       "      <td>2018-07-12T11:54:20.144424</td>\n",
       "      <td>-0.916</td>\n",
       "      <td>-0.461</td>\n",
       "      <td>0.236</td>\n",
       "    </tr>\n",
       "  </tbody>\n",
       "</table>\n",
       "</div>"
      ],
      "text/plain": [
       "   user  label                        time      x      y      z\n",
       "0    17      1  2018-07-12T11:54:19.944390 -0.914 -0.444  0.225\n",
       "1    17      1  2018-07-12T11:54:19.990012 -0.914 -0.444  0.225\n",
       "2    17      1  2018-07-12T11:54:20.041148 -0.917 -0.439  0.226\n",
       "3    17      1  2018-07-12T11:54:20.084765 -0.917 -0.439  0.226\n",
       "4    17      1  2018-07-12T11:54:20.144424 -0.916 -0.461  0.236"
      ]
     },
     "execution_count": 5,
     "metadata": {},
     "output_type": "execute_result"
    }
   ],
   "source": [
    "data.columns = ['user', 'label', 'time', 'x', 'y', 'z']\n",
    "data.head()"
   ]
  },
  {
   "cell_type": "code",
   "execution_count": 6,
   "metadata": {
    "executionInfo": {
     "elapsed": 3273,
     "status": "ok",
     "timestamp": 1617467950565,
     "user": {
      "displayName": "Gaurav Hazra",
      "photoUrl": "https://lh3.googleusercontent.com/a-/AOh14Gi_odLjqYpDOFHsrWzDr8ElbKesGIy6cg_sCWU5kg=s64",
      "userId": "05091429207485877833"
     },
     "user_tz": -330
    },
    "id": "2xzK4k5ERmM2"
   },
   "outputs": [],
   "source": [
    "# Combining all fall cases as 1, non fall cases as 0\n",
    "data['label'] = data['label'].map({1:1, 2:1, 3:1, 4:1, 5:1, 6:0, 7:0, 8:0, 9:0, 10:0, 11:0})"
   ]
  },
  {
   "cell_type": "code",
   "execution_count": 7,
   "metadata": {
    "colab": {
     "base_uri": "https://localhost:8080/"
    },
    "executionInfo": {
     "elapsed": 3268,
     "status": "ok",
     "timestamp": 1617467950566,
     "user": {
      "displayName": "Gaurav Hazra",
      "photoUrl": "https://lh3.googleusercontent.com/a-/AOh14Gi_odLjqYpDOFHsrWzDr8ElbKesGIy6cg_sCWU5kg=s64",
      "userId": "05091429207485877833"
     },
     "user_tz": -330
    },
    "id": "fpn4cFCqCwAr",
    "outputId": "01f41764-e150-4a2c-8a23-05e223c3dcdb"
   },
   "outputs": [
    {
     "data": {
      "text/plain": [
       "(884172, 6)"
      ]
     },
     "execution_count": 7,
     "metadata": {},
     "output_type": "execute_result"
    }
   ],
   "source": [
    "data.shape"
   ]
  },
  {
   "cell_type": "code",
   "execution_count": 8,
   "metadata": {
    "colab": {
     "base_uri": "https://localhost:8080/"
    },
    "executionInfo": {
     "elapsed": 3261,
     "status": "ok",
     "timestamp": 1617467950566,
     "user": {
      "displayName": "Gaurav Hazra",
      "photoUrl": "https://lh3.googleusercontent.com/a-/AOh14Gi_odLjqYpDOFHsrWzDr8ElbKesGIy6cg_sCWU5kg=s64",
      "userId": "05091429207485877833"
     },
     "user_tz": -330
    },
    "id": "arkIT5B9CwAs",
    "outputId": "54c636a3-9e83-44dc-a31b-aea0ea0cca2b"
   },
   "outputs": [
    {
     "name": "stdout",
     "output_type": "stream",
     "text": [
      "<class 'pandas.core.frame.DataFrame'>\n",
      "RangeIndex: 884172 entries, 0 to 884171\n",
      "Data columns (total 6 columns):\n",
      " #   Column  Non-Null Count   Dtype  \n",
      "---  ------  --------------   -----  \n",
      " 0   user    884172 non-null  int64  \n",
      " 1   label   884034 non-null  float64\n",
      " 2   time    884172 non-null  object \n",
      " 3   x       848063 non-null  float64\n",
      " 4   y       848063 non-null  float64\n",
      " 5   z       848063 non-null  float64\n",
      "dtypes: float64(4), int64(1), object(1)\n",
      "memory usage: 40.5+ MB\n"
     ]
    }
   ],
   "source": [
    "data.info()"
   ]
  },
  {
   "cell_type": "code",
   "execution_count": 9,
   "metadata": {
    "executionInfo": {
     "elapsed": 3256,
     "status": "ok",
     "timestamp": 1617467950567,
     "user": {
      "displayName": "Gaurav Hazra",
      "photoUrl": "https://lh3.googleusercontent.com/a-/AOh14Gi_odLjqYpDOFHsrWzDr8ElbKesGIy6cg_sCWU5kg=s64",
      "userId": "05091429207485877833"
     },
     "user_tz": -330
    },
    "id": "TKa9p2obhuLF"
   },
   "outputs": [],
   "source": [
    "#Handle Null values\n",
    "data=data.dropna()"
   ]
  },
  {
   "cell_type": "code",
   "execution_count": 10,
   "metadata": {
    "colab": {
     "base_uri": "https://localhost:8080/"
    },
    "executionInfo": {
     "elapsed": 3252,
     "status": "ok",
     "timestamp": 1617467950568,
     "user": {
      "displayName": "Gaurav Hazra",
      "photoUrl": "https://lh3.googleusercontent.com/a-/AOh14Gi_odLjqYpDOFHsrWzDr8ElbKesGIy6cg_sCWU5kg=s64",
      "userId": "05091429207485877833"
     },
     "user_tz": -330
    },
    "id": "4s4pJJpgCwAt",
    "outputId": "b959e2b6-f786-48d8-8353-041078d433a2"
   },
   "outputs": [
    {
     "data": {
      "text/plain": [
       "user     0\n",
       "label    0\n",
       "time     0\n",
       "x        0\n",
       "y        0\n",
       "z        0\n",
       "dtype: int64"
      ]
     },
     "execution_count": 10,
     "metadata": {},
     "output_type": "execute_result"
    }
   ],
   "source": [
    "data.isnull().sum()"
   ]
  },
  {
   "cell_type": "code",
   "execution_count": 11,
   "metadata": {
    "colab": {
     "base_uri": "https://localhost:8080/"
    },
    "executionInfo": {
     "elapsed": 3249,
     "status": "ok",
     "timestamp": 1617467950569,
     "user": {
      "displayName": "Gaurav Hazra",
      "photoUrl": "https://lh3.googleusercontent.com/a-/AOh14Gi_odLjqYpDOFHsrWzDr8ElbKesGIy6cg_sCWU5kg=s64",
      "userId": "05091429207485877833"
     },
     "user_tz": -330
    },
    "id": "pZbjyX6sCwAu",
    "outputId": "98d46887-378f-4e3c-b66e-c0806426a7b4"
   },
   "outputs": [
    {
     "data": {
      "text/plain": [
       "0.0    715582\n",
       "1.0    132343\n",
       "Name: label, dtype: int64"
      ]
     },
     "execution_count": 11,
     "metadata": {},
     "output_type": "execute_result"
    }
   ],
   "source": [
    "data['label'].value_counts()"
   ]
  },
  {
   "cell_type": "markdown",
   "metadata": {
    "id": "HD-IQ-BTgN8n"
   },
   "source": [
    "### Visualize Data"
   ]
  },
  {
   "cell_type": "code",
   "execution_count": 12,
   "metadata": {
    "executionInfo": {
     "elapsed": 3713,
     "status": "ok",
     "timestamp": 1617467951041,
     "user": {
      "displayName": "Gaurav Hazra",
      "photoUrl": "https://lh3.googleusercontent.com/a-/AOh14Gi_odLjqYpDOFHsrWzDr8ElbKesGIy6cg_sCWU5kg=s64",
      "userId": "05091429207485877833"
     },
     "user_tz": -330
    },
    "id": "r8-vVZYrCwAw"
   },
   "outputs": [],
   "source": [
    "Fs = 10"
   ]
  },
  {
   "cell_type": "code",
   "execution_count": 13,
   "metadata": {
    "executionInfo": {
     "elapsed": 3708,
     "status": "ok",
     "timestamp": 1617467951041,
     "user": {
      "displayName": "Gaurav Hazra",
      "photoUrl": "https://lh3.googleusercontent.com/a-/AOh14Gi_odLjqYpDOFHsrWzDr8ElbKesGIy6cg_sCWU5kg=s64",
      "userId": "05091429207485877833"
     },
     "user_tz": -330
    },
    "id": "d9RQC9HdCwAw"
   },
   "outputs": [],
   "source": [
    "activities = data['label'].value_counts().index"
   ]
  },
  {
   "cell_type": "code",
   "execution_count": 14,
   "metadata": {
    "colab": {
     "base_uri": "https://localhost:8080/"
    },
    "executionInfo": {
     "elapsed": 3706,
     "status": "ok",
     "timestamp": 1617467951042,
     "user": {
      "displayName": "Gaurav Hazra",
      "photoUrl": "https://lh3.googleusercontent.com/a-/AOh14Gi_odLjqYpDOFHsrWzDr8ElbKesGIy6cg_sCWU5kg=s64",
      "userId": "05091429207485877833"
     },
     "user_tz": -330
    },
    "id": "hO7h9OnYCwAx",
    "outputId": "427408cd-d755-4d78-abb0-b07bd4f3ac83"
   },
   "outputs": [
    {
     "data": {
      "text/plain": [
       "Float64Index([0.0, 1.0], dtype='float64')"
      ]
     },
     "execution_count": 14,
     "metadata": {},
     "output_type": "execute_result"
    }
   ],
   "source": [
    "activities"
   ]
  },
  {
   "cell_type": "code",
   "execution_count": 15,
   "metadata": {
    "colab": {
     "base_uri": "https://localhost:8080/",
     "height": 913
    },
    "executionInfo": {
     "elapsed": 5567,
     "status": "ok",
     "timestamp": 1617467952908,
     "user": {
      "displayName": "Gaurav Hazra",
      "photoUrl": "https://lh3.googleusercontent.com/a-/AOh14Gi_odLjqYpDOFHsrWzDr8ElbKesGIy6cg_sCWU5kg=s64",
      "userId": "05091429207485877833"
     },
     "user_tz": -330
    },
    "id": "w2E4dDgBCwAy",
    "outputId": "c050dbd1-afd2-4181-dd07-0efa6f89bdcd",
    "scrolled": false
   },
   "outputs": [
    {
     "data": {
      "image/png": "[encoded data removed]",
      "text/plain": [
       "<Figure size 1080x504 with 3 Axes>"
      ]
     },
     "metadata": {
      "needs_background": "light"
     },
     "output_type": "display_data"
    },
    {
     "data": {
      "image/png": "[encoded data removed]",
      "text/plain": [
       "<Figure size 1080x504 with 3 Axes>"
      ]
     },
     "metadata": {
      "needs_background": "light"
     },
     "output_type": "display_data"
    }
   ],
   "source": [
    "def plot_activity(activity, data):\n",
    "    fig, (ax0, ax1, ax2) = plt.subplots(nrows=3, figsize=(15, 7), sharex=True)\n",
    "    plot_axis(ax0, data.index, data['x'], 'X-Axis')\n",
    "    plot_axis(ax1, data.index, data['y'], 'Y-Axis')\n",
    "    plot_axis(ax2, data.index, data['z'], 'Z-Axis')\n",
    "    plt.subplots_adjust(hspace=0.2)\n",
    "    fig.suptitle(activity)\n",
    "    plt.subplots_adjust(top=0.90)\n",
    "    plt.show()\n",
    "\n",
    "def plot_axis(ax, x, y, title):\n",
    "    ax.plot(x, y, 'g')\n",
    "    ax.set_title(title)\n",
    "    ax.xaxis.set_visible(False)\n",
    "    ax.set_ylim([min(y) - np.std(y), max(y) + np.std(y)])\n",
    "    ax.set_xlim([min(x), max(x)])\n",
    "    ax.grid(True)\n",
    "\n",
    "for activity in activities:\n",
    "    data_for_plot = data[(data['label'] == activity)][:Fs*10]\n",
    "    plot_activity(activity, data_for_plot)"
   ]
  },
  {
   "cell_type": "code",
   "execution_count": 16,
   "metadata": {
    "colab": {
     "base_uri": "https://localhost:8080/",
     "height": 195
    },
    "executionInfo": {
     "elapsed": 5564,
     "status": "ok",
     "timestamp": 1617467952909,
     "user": {
      "displayName": "Gaurav Hazra",
      "photoUrl": "https://lh3.googleusercontent.com/a-/AOh14Gi_odLjqYpDOFHsrWzDr8ElbKesGIy6cg_sCWU5kg=s64",
      "userId": "05091429207485877833"
     },
     "user_tz": -330
    },
    "id": "aqd9EZOaCwAz",
    "outputId": "01e95f3f-5c15-4915-94b8-98efe6a1e82e"
   },
   "outputs": [],
   "source": [
    "# df = data.drop(['user', 'time'], axis = 1).copy()\n",
    "# df.head()"
   ]
  },
  {
   "cell_type": "markdown",
   "metadata": {
    "id": "-KlP3ziDCwAu"
   },
   "source": [
    "### Balance this data "
   ]
  },
  {
   "cell_type": "code",
   "execution_count": 17,
   "metadata": {
    "colab": {
     "base_uri": "https://localhost:8080/"
    },
    "executionInfo": {
     "elapsed": 5558,
     "status": "ok",
     "timestamp": 1617467952911,
     "user": {
      "displayName": "Gaurav Hazra",
      "photoUrl": "https://lh3.googleusercontent.com/a-/AOh14Gi_odLjqYpDOFHsrWzDr8ElbKesGIy6cg_sCWU5kg=s64",
      "userId": "05091429207485877833"
     },
     "user_tz": -330
    },
    "id": "yT__RS0XJHP0",
    "outputId": "1a4be8e8-c06e-4846-b78f-52055629e671"
   },
   "outputs": [
    {
     "name": "stdout",
     "output_type": "stream",
     "text": [
      "132343\n"
     ]
    }
   ],
   "source": [
    "count = min(data['label'].value_counts())\n",
    "print(count)"
   ]
  },
  {
   "cell_type": "code",
   "execution_count": 18,
   "metadata": {
    "colab": {
     "base_uri": "https://localhost:8080/"
    },
    "executionInfo": {
     "elapsed": 5555,
     "status": "ok",
     "timestamp": 1617467952912,
     "user": {
      "displayName": "Gaurav Hazra",
      "photoUrl": "https://lh3.googleusercontent.com/a-/AOh14Gi_odLjqYpDOFHsrWzDr8ElbKesGIy6cg_sCWU5kg=s64",
      "userId": "05091429207485877833"
     },
     "user_tz": -330
    },
    "id": "j65ojIt5CwA0",
    "outputId": "5300bcad-0221-49cc-8d90-7c3e78bd4192"
   },
   "outputs": [
    {
     "name": "stdout",
     "output_type": "stream",
     "text": [
      "        user  label                        time      x      y      z\n",
      "0         17    1.0  2018-07-12T11:54:19.944390 -0.914 -0.444  0.225\n",
      "1         17    1.0  2018-07-12T11:54:19.990012 -0.914 -0.444  0.225\n",
      "2         17    1.0  2018-07-12T11:54:20.041148 -0.917 -0.439  0.226\n",
      "3         17    1.0  2018-07-12T11:54:20.084765 -0.917 -0.439  0.226\n",
      "4         17    1.0  2018-07-12T11:54:20.144424 -0.916 -0.461  0.236\n",
      "...      ...    ...                         ...    ...    ...    ...\n",
      "264681     3    0.0  2018-07-05T12:12:36.589912 -0.153 -0.475  0.516\n",
      "264682     3    0.0  2018-07-05T12:12:36.627512 -0.398 -1.028  0.723\n",
      "264683     3    0.0  2018-07-05T12:12:36.679650 -0.398 -1.028  0.723\n",
      "264684     3    0.0  2018-07-05T12:12:36.736426 -0.417 -1.061  0.706\n",
      "264685     3    0.0  2018-07-05T12:12:36.784554 -0.411 -0.803  0.271\n",
      "\n",
      "[264686 rows x 6 columns]\n"
     ]
    }
   ],
   "source": [
    "df=data.groupby('label').head(count).reset_index(drop=True)\n",
    "print(df)"
   ]
  },
  {
   "cell_type": "markdown",
   "metadata": {
    "id": "qfjHnOe5KulL"
   },
   "source": [
    "Table 5. Activities performed by subjects.\n",
    "Activity ID Description Duration (s)\n",
    "\n",
    "1. Falling forward using hands | 10\n",
    "2. Falling forward using knees | 10\n",
    "3. Falling backwards | 10\n",
    "4. Falling sideward | 10 \n",
    "5. Falling sitting in empty chair | 10\n",
    "6. Walking | 60\n",
    "7. Standing | 60\n",
    "8. Sitting | 60\n",
    "9. Picking up an object | 10\n",
    "10. Jumping | 30\n",
    "11. Laying | 60"
   ]
  },
  {
   "cell_type": "code",
   "execution_count": 19,
   "metadata": {
    "colab": {
     "base_uri": "https://localhost:8080/"
    },
    "executionInfo": {
     "elapsed": 5550,
     "status": "ok",
     "timestamp": 1617467952913,
     "user": {
      "displayName": "Gaurav Hazra",
      "photoUrl": "https://lh3.googleusercontent.com/a-/AOh14Gi_odLjqYpDOFHsrWzDr8ElbKesGIy6cg_sCWU5kg=s64",
      "userId": "05091429207485877833"
     },
     "user_tz": -330
    },
    "id": "w6daztcBCwA2",
    "outputId": "00582ca6-f300-4e8e-abe9-5bd6652796e7"
   },
   "outputs": [
    {
     "data": {
      "text/plain": [
       "0.0    132343\n",
       "1.0    132343\n",
       "Name: label, dtype: int64"
      ]
     },
     "execution_count": 19,
     "metadata": {},
     "output_type": "execute_result"
    }
   ],
   "source": [
    "df['label'].value_counts()"
   ]
  },
  {
   "cell_type": "code",
   "execution_count": 20,
   "metadata": {},
   "outputs": [
    {
     "data": {
      "text/html": [
       "<div>\n",
       "<style scoped>\n",
       "    .dataframe tbody tr th:only-of-type {\n",
       "        vertical-align: middle;\n",
       "    }\n",
       "\n",
       "    .dataframe tbody tr th {\n",
       "        vertical-align: top;\n",
       "    }\n",
       "\n",
       "    .dataframe thead th {\n",
       "        text-align: right;\n",
       "    }\n",
       "</style>\n",
       "<table border=\"1\" class=\"dataframe\">\n",
       "  <thead>\n",
       "    <tr style=\"text-align: right;\">\n",
       "      <th></th>\n",
       "      <th>user</th>\n",
       "      <th>label</th>\n",
       "      <th>time</th>\n",
       "      <th>x</th>\n",
       "      <th>y</th>\n",
       "      <th>z</th>\n",
       "    </tr>\n",
       "  </thead>\n",
       "  <tbody>\n",
       "    <tr>\n",
       "      <th>0</th>\n",
       "      <td>17</td>\n",
       "      <td>1</td>\n",
       "      <td>2018-07-12T11:54:19.944390</td>\n",
       "      <td>-0.914</td>\n",
       "      <td>-0.444</td>\n",
       "      <td>0.225</td>\n",
       "    </tr>\n",
       "    <tr>\n",
       "      <th>1</th>\n",
       "      <td>17</td>\n",
       "      <td>1</td>\n",
       "      <td>2018-07-12T11:54:19.990012</td>\n",
       "      <td>-0.914</td>\n",
       "      <td>-0.444</td>\n",
       "      <td>0.225</td>\n",
       "    </tr>\n",
       "    <tr>\n",
       "      <th>2</th>\n",
       "      <td>17</td>\n",
       "      <td>1</td>\n",
       "      <td>2018-07-12T11:54:20.041148</td>\n",
       "      <td>-0.917</td>\n",
       "      <td>-0.439</td>\n",
       "      <td>0.226</td>\n",
       "    </tr>\n",
       "    <tr>\n",
       "      <th>3</th>\n",
       "      <td>17</td>\n",
       "      <td>1</td>\n",
       "      <td>2018-07-12T11:54:20.084765</td>\n",
       "      <td>-0.917</td>\n",
       "      <td>-0.439</td>\n",
       "      <td>0.226</td>\n",
       "    </tr>\n",
       "    <tr>\n",
       "      <th>4</th>\n",
       "      <td>17</td>\n",
       "      <td>1</td>\n",
       "      <td>2018-07-12T11:54:20.144424</td>\n",
       "      <td>-0.916</td>\n",
       "      <td>-0.461</td>\n",
       "      <td>0.236</td>\n",
       "    </tr>\n",
       "  </tbody>\n",
       "</table>\n",
       "</div>"
      ],
      "text/plain": [
       "   user  label                        time      x      y      z\n",
       "0    17      1  2018-07-12T11:54:19.944390 -0.914 -0.444  0.225\n",
       "1    17      1  2018-07-12T11:54:19.990012 -0.914 -0.444  0.225\n",
       "2    17      1  2018-07-12T11:54:20.041148 -0.917 -0.439  0.226\n",
       "3    17      1  2018-07-12T11:54:20.084765 -0.917 -0.439  0.226\n",
       "4    17      1  2018-07-12T11:54:20.144424 -0.916 -0.461  0.236"
      ]
     },
     "execution_count": 20,
     "metadata": {},
     "output_type": "execute_result"
    }
   ],
   "source": [
    "label = LabelEncoder()\n",
    "\n",
    "df['label'] = label.fit_transform(df['label'])\n",
    "df.head()"
   ]
  },
  {
   "cell_type": "code",
   "execution_count": 21,
   "metadata": {},
   "outputs": [
    {
     "data": {
      "text/plain": [
       "array([0., 1.])"
      ]
     },
     "execution_count": 21,
     "metadata": {},
     "output_type": "execute_result"
    }
   ],
   "source": [
    "label.classes_"
   ]
  },
  {
   "cell_type": "markdown",
   "metadata": {
    "id": "Lt1PUkvcCwA5"
   },
   "source": [
    "### Standardized data "
   ]
  },
  {
   "cell_type": "code",
   "execution_count": 22,
   "metadata": {
    "executionInfo": {
     "elapsed": 5546,
     "status": "ok",
     "timestamp": 1617467952914,
     "user": {
      "displayName": "Gaurav Hazra",
      "photoUrl": "https://lh3.googleusercontent.com/a-/AOh14Gi_odLjqYpDOFHsrWzDr8ElbKesGIy6cg_sCWU5kg=s64",
      "userId": "05091429207485877833"
     },
     "user_tz": -330
    },
    "id": "UvrOSzBMCwA5"
   },
   "outputs": [],
   "source": [
    "X = df[['x', 'y', 'z']]\n",
    "y = df['label']"
   ]
  },
  {
   "cell_type": "code",
   "execution_count": 23,
   "metadata": {
    "colab": {
     "base_uri": "https://localhost:8080/",
     "height": 402
    },
    "executionInfo": {
     "elapsed": 5544,
     "status": "ok",
     "timestamp": 1617467952916,
     "user": {
      "displayName": "Gaurav Hazra",
      "photoUrl": "https://lh3.googleusercontent.com/a-/AOh14Gi_odLjqYpDOFHsrWzDr8ElbKesGIy6cg_sCWU5kg=s64",
      "userId": "05091429207485877833"
     },
     "user_tz": -330
    },
    "id": "F0y6T57gCwA6",
    "outputId": "2d4de807-9ab4-4ba7-ebf4-4d7a6d86b603"
   },
   "outputs": [
    {
     "data": {
      "text/html": [
       "<div>\n",
       "<style scoped>\n",
       "    .dataframe tbody tr th:only-of-type {\n",
       "        vertical-align: middle;\n",
       "    }\n",
       "\n",
       "    .dataframe tbody tr th {\n",
       "        vertical-align: top;\n",
       "    }\n",
       "\n",
       "    .dataframe thead th {\n",
       "        text-align: right;\n",
       "    }\n",
       "</style>\n",
       "<table border=\"1\" class=\"dataframe\">\n",
       "  <thead>\n",
       "    <tr style=\"text-align: right;\">\n",
       "      <th></th>\n",
       "      <th>x</th>\n",
       "      <th>y</th>\n",
       "      <th>z</th>\n",
       "      <th>label</th>\n",
       "    </tr>\n",
       "  </thead>\n",
       "  <tbody>\n",
       "    <tr>\n",
       "      <th>0</th>\n",
       "      <td>-1.203834</td>\n",
       "      <td>-0.659541</td>\n",
       "      <td>0.300201</td>\n",
       "      <td>1</td>\n",
       "    </tr>\n",
       "    <tr>\n",
       "      <th>1</th>\n",
       "      <td>-1.203834</td>\n",
       "      <td>-0.659541</td>\n",
       "      <td>0.300201</td>\n",
       "      <td>1</td>\n",
       "    </tr>\n",
       "    <tr>\n",
       "      <th>2</th>\n",
       "      <td>-1.208146</td>\n",
       "      <td>-0.650790</td>\n",
       "      <td>0.301951</td>\n",
       "      <td>1</td>\n",
       "    </tr>\n",
       "    <tr>\n",
       "      <th>3</th>\n",
       "      <td>-1.208146</td>\n",
       "      <td>-0.650790</td>\n",
       "      <td>0.301951</td>\n",
       "      <td>1</td>\n",
       "    </tr>\n",
       "    <tr>\n",
       "      <th>4</th>\n",
       "      <td>-1.206709</td>\n",
       "      <td>-0.689295</td>\n",
       "      <td>0.319446</td>\n",
       "      <td>1</td>\n",
       "    </tr>\n",
       "    <tr>\n",
       "      <th>...</th>\n",
       "      <td>...</td>\n",
       "      <td>...</td>\n",
       "      <td>...</td>\n",
       "      <td>...</td>\n",
       "    </tr>\n",
       "    <tr>\n",
       "      <th>264681</th>\n",
       "      <td>-0.109975</td>\n",
       "      <td>-0.713798</td>\n",
       "      <td>0.809330</td>\n",
       "      <td>0</td>\n",
       "    </tr>\n",
       "    <tr>\n",
       "      <th>264682</th>\n",
       "      <td>-0.462137</td>\n",
       "      <td>-1.681658</td>\n",
       "      <td>1.171494</td>\n",
       "      <td>0</td>\n",
       "    </tr>\n",
       "    <tr>\n",
       "      <th>264683</th>\n",
       "      <td>-0.462137</td>\n",
       "      <td>-1.681658</td>\n",
       "      <td>1.171494</td>\n",
       "      <td>0</td>\n",
       "    </tr>\n",
       "    <tr>\n",
       "      <th>264684</th>\n",
       "      <td>-0.489448</td>\n",
       "      <td>-1.739414</td>\n",
       "      <td>1.141751</td>\n",
       "      <td>0</td>\n",
       "    </tr>\n",
       "    <tr>\n",
       "      <th>264685</th>\n",
       "      <td>-0.480823</td>\n",
       "      <td>-1.287863</td>\n",
       "      <td>0.380682</td>\n",
       "      <td>0</td>\n",
       "    </tr>\n",
       "  </tbody>\n",
       "</table>\n",
       "<p>264686 rows × 4 columns</p>\n",
       "</div>"
      ],
      "text/plain": [
       "               x         y         z  label\n",
       "0      -1.203834 -0.659541  0.300201      1\n",
       "1      -1.203834 -0.659541  0.300201      1\n",
       "2      -1.208146 -0.650790  0.301951      1\n",
       "3      -1.208146 -0.650790  0.301951      1\n",
       "4      -1.206709 -0.689295  0.319446      1\n",
       "...          ...       ...       ...    ...\n",
       "264681 -0.109975 -0.713798  0.809330      0\n",
       "264682 -0.462137 -1.681658  1.171494      0\n",
       "264683 -0.462137 -1.681658  1.171494      0\n",
       "264684 -0.489448 -1.739414  1.141751      0\n",
       "264685 -0.480823 -1.287863  0.380682      0\n",
       "\n",
       "[264686 rows x 4 columns]"
      ]
     },
     "execution_count": 23,
     "metadata": {},
     "output_type": "execute_result"
    }
   ],
   "source": [
    "scaler1 = StandardScaler()\n",
    "X = scaler1.fit_transform(X)\n",
    "\n",
    "# scaler2 = preprocessing.MaxAbsScaler()\n",
    "# X = scaler2.fit_transform(X)\n",
    "\n",
    "scaled_X = pd.DataFrame(data = X, columns = ['x', 'y', 'z'])\n",
    "scaled_X['label'] = y.values\n",
    "\n",
    "scaled_X"
   ]
  },
  {
   "cell_type": "code",
   "execution_count": 24,
   "metadata": {},
   "outputs": [
    {
     "name": "stdout",
     "output_type": "stream",
     "text": [
      "Wall time: 27 ms\n"
     ]
    },
    {
     "data": {
      "text/plain": [
       "[<matplotlib.lines.Line2D at 0x23f30f9cc10>]"
      ]
     },
     "execution_count": 24,
     "metadata": {},
     "output_type": "execute_result"
    },
    {
     "data": {
      "image/png": "[encoded data removed]",
      "text/plain": [
       "<Figure size 1224x288 with 1 Axes>"
      ]
     },
     "metadata": {
      "needs_background": "light"
     },
     "output_type": "display_data"
    }
   ],
   "source": [
    "%%time\n",
    "import matplotlib.pyplot as plt\n",
    "plt.figure(figsize=(17, 4))\n",
    "plt.plot(scaled_X['x'][0:100])\n",
    "plt.plot(scaled_X['y'][0:100])\n",
    "plt.plot(scaled_X['z'][0:100])\n",
    "#plt.plot(data['v*0.008'].values)\n",
    "#plt.plot(data['g*0.016'].values)\n",
    "#plt.plot(data['v*g'].values)"
   ]
  },
  {
   "cell_type": "markdown",
   "metadata": {
    "id": "twotdA2zCwA7"
   },
   "source": [
    "### Frame Preparation "
   ]
  },
  {
   "cell_type": "code",
   "execution_count": 25,
   "metadata": {
    "executionInfo": {
     "elapsed": 5538,
     "status": "ok",
     "timestamp": 1617467952916,
     "user": {
      "displayName": "Gaurav Hazra",
      "photoUrl": "https://lh3.googleusercontent.com/a-/AOh14Gi_odLjqYpDOFHsrWzDr8ElbKesGIy6cg_sCWU5kg=s64",
      "userId": "05091429207485877833"
     },
     "user_tz": -330
    },
    "id": "QfaN_EPqCwA7"
   },
   "outputs": [],
   "source": [
    "import scipy.stats as stats"
   ]
  },
  {
   "cell_type": "code",
   "execution_count": 26,
   "metadata": {
    "executionInfo": {
     "elapsed": 5535,
     "status": "ok",
     "timestamp": 1617467952917,
     "user": {
      "displayName": "Gaurav Hazra",
      "photoUrl": "https://lh3.googleusercontent.com/a-/AOh14Gi_odLjqYpDOFHsrWzDr8ElbKesGIy6cg_sCWU5kg=s64",
      "userId": "05091429207485877833"
     },
     "user_tz": -330
    },
    "id": "Kzo7TGJ3CwA8"
   },
   "outputs": [],
   "source": [
    "frame_size = 16\n",
    "hop_size = frame_size*1 # Subsetting into frames (As per frequency)"
   ]
  },
  {
   "cell_type": "code",
   "execution_count": 27,
   "metadata": {
    "executionInfo": {
     "elapsed": 5533,
     "status": "ok",
     "timestamp": 1617467952918,
     "user": {
      "displayName": "Gaurav Hazra",
      "photoUrl": "https://lh3.googleusercontent.com/a-/AOh14Gi_odLjqYpDOFHsrWzDr8ElbKesGIy6cg_sCWU5kg=s64",
      "userId": "05091429207485877833"
     },
     "user_tz": -330
    },
    "id": "MaECNtrcCwA8"
   },
   "outputs": [],
   "source": [
    "def get_frames(df, frame_size, hop_size):\n",
    "\n",
    "    N_FEATURES = 3\n",
    "\n",
    "    frames = []\n",
    "    labels = []\n",
    "    for i in range(0, len(df) - frame_size, hop_size):\n",
    "        x = df['x'].values[i: i + frame_size]\n",
    "        y = df['y'].values[i: i + frame_size]\n",
    "        z = df['z'].values[i: i + frame_size]\n",
    "        \n",
    "        # Retrieve the most often used label in this segment\n",
    "        label = stats.mode(df['label'][i: i + frame_size])[0][0]\n",
    "        frames.append([x, y, z])\n",
    "        labels.append(label)\n",
    "\n",
    "    # Bring the segments into a better shape\n",
    "    frames = np.asarray(frames).reshape(-1, frame_size, N_FEATURES)\n",
    "    labels = np.asarray(labels)\n",
    "\n",
    "    return frames, labels"
   ]
  },
  {
   "cell_type": "code",
   "execution_count": 28,
   "metadata": {
    "executionInfo": {
     "elapsed": 7229,
     "status": "ok",
     "timestamp": 1617467954619,
     "user": {
      "displayName": "Gaurav Hazra",
      "photoUrl": "https://lh3.googleusercontent.com/a-/AOh14Gi_odLjqYpDOFHsrWzDr8ElbKesGIy6cg_sCWU5kg=s64",
      "userId": "05091429207485877833"
     },
     "user_tz": -330
    },
    "id": "ONpcG_hpCwA9"
   },
   "outputs": [],
   "source": [
    "X, y = get_frames(df, frame_size, hop_size)"
   ]
  },
  {
   "cell_type": "code",
   "execution_count": 29,
   "metadata": {
    "colab": {
     "base_uri": "https://localhost:8080/"
    },
    "executionInfo": {
     "elapsed": 7225,
     "status": "ok",
     "timestamp": 1617467954620,
     "user": {
      "displayName": "Gaurav Hazra",
      "photoUrl": "https://lh3.googleusercontent.com/a-/AOh14Gi_odLjqYpDOFHsrWzDr8ElbKesGIy6cg_sCWU5kg=s64",
      "userId": "05091429207485877833"
     },
     "user_tz": -330
    },
    "id": "0_ZgQNO0CwA9",
    "outputId": "3c2d58fe-3989-4ba6-d98c-46a41c20b81b"
   },
   "outputs": [
    {
     "data": {
      "text/plain": [
       "((16542, 16, 3), (16542,))"
      ]
     },
     "execution_count": 29,
     "metadata": {},
     "output_type": "execute_result"
    }
   ],
   "source": [
    "X.shape, y.shape"
   ]
  },
  {
   "cell_type": "code",
   "execution_count": 30,
   "metadata": {
    "executionInfo": {
     "elapsed": 7220,
     "status": "ok",
     "timestamp": 1617467954620,
     "user": {
      "displayName": "Gaurav Hazra",
      "photoUrl": "https://lh3.googleusercontent.com/a-/AOh14Gi_odLjqYpDOFHsrWzDr8ElbKesGIy6cg_sCWU5kg=s64",
      "userId": "05091429207485877833"
     },
     "user_tz": -330
    },
    "id": "UMez-lVTCwA-"
   },
   "outputs": [],
   "source": [
    "X_train, X_test, y_train, y_test = train_test_split(X, y, test_size = 0.2, random_state = 42, stratify = y)"
   ]
  },
  {
   "cell_type": "code",
   "execution_count": 31,
   "metadata": {
    "colab": {
     "base_uri": "https://localhost:8080/"
    },
    "executionInfo": {
     "elapsed": 7215,
     "status": "ok",
     "timestamp": 1617467954621,
     "user": {
      "displayName": "Gaurav Hazra",
      "photoUrl": "https://lh3.googleusercontent.com/a-/AOh14Gi_odLjqYpDOFHsrWzDr8ElbKesGIy6cg_sCWU5kg=s64",
      "userId": "05091429207485877833"
     },
     "user_tz": -330
    },
    "id": "a4nCmx56CwBB",
    "outputId": "64dc6eda-2ce3-477b-e6e4-9050d3b8f485"
   },
   "outputs": [
    {
     "data": {
      "text/plain": [
       "((13233, 16, 3), (3309, 16, 3))"
      ]
     },
     "execution_count": 31,
     "metadata": {},
     "output_type": "execute_result"
    }
   ],
   "source": [
    "X_train.shape, X_test.shape"
   ]
  },
  {
   "cell_type": "code",
   "execution_count": 32,
   "metadata": {
    "colab": {
     "base_uri": "https://localhost:8080/"
    },
    "executionInfo": {
     "elapsed": 7210,
     "status": "ok",
     "timestamp": 1617467954622,
     "user": {
      "displayName": "Gaurav Hazra",
      "photoUrl": "https://lh3.googleusercontent.com/a-/AOh14Gi_odLjqYpDOFHsrWzDr8ElbKesGIy6cg_sCWU5kg=s64",
      "userId": "05091429207485877833"
     },
     "user_tz": -330
    },
    "id": "NYeeDjawCwBB",
    "outputId": "6ac8f375-34c8-4165-ec44-4920413df48c"
   },
   "outputs": [
    {
     "data": {
      "text/plain": [
       "((16, 3), (16, 3))"
      ]
     },
     "execution_count": 32,
     "metadata": {},
     "output_type": "execute_result"
    }
   ],
   "source": [
    "X_train[0].shape, X_test[0].shape"
   ]
  },
  {
   "cell_type": "code",
   "execution_count": 33,
   "metadata": {
    "colab": {
     "base_uri": "https://localhost:8080/"
    },
    "executionInfo": {
     "elapsed": 7206,
     "status": "ok",
     "timestamp": 1617467954623,
     "user": {
      "displayName": "Gaurav Hazra",
      "photoUrl": "https://lh3.googleusercontent.com/a-/AOh14Gi_odLjqYpDOFHsrWzDr8ElbKesGIy6cg_sCWU5kg=s64",
      "userId": "05091429207485877833"
     },
     "user_tz": -330
    },
    "id": "bfk6MIX3QyUt",
    "outputId": "d27f6494-5416-4755-f914-2cb344f909df"
   },
   "outputs": [
    {
     "name": "stdout",
     "output_type": "stream",
     "text": [
      "(13233, 16, 3, 1) (3309, 16, 3, 1)\n"
     ]
    }
   ],
   "source": [
    "a=X_train.shape\n",
    "a = a + (1,)\n",
    "b=X_test.shape\n",
    "b = b + (1,)\n",
    "print(a,b)"
   ]
  },
  {
   "cell_type": "code",
   "execution_count": 34,
   "metadata": {
    "executionInfo": {
     "elapsed": 7200,
     "status": "ok",
     "timestamp": 1617467954623,
     "user": {
      "displayName": "Gaurav Hazra",
      "photoUrl": "https://lh3.googleusercontent.com/a-/AOh14Gi_odLjqYpDOFHsrWzDr8ElbKesGIy6cg_sCWU5kg=s64",
      "userId": "05091429207485877833"
     },
     "user_tz": -330
    },
    "id": "jCOdjSsvCwBC"
   },
   "outputs": [],
   "source": [
    "X_train = X_train.reshape(a)\n",
    "X_test = X_test.reshape(b)"
   ]
  },
  {
   "cell_type": "code",
   "execution_count": 35,
   "metadata": {
    "colab": {
     "base_uri": "https://localhost:8080/"
    },
    "executionInfo": {
     "elapsed": 7197,
     "status": "ok",
     "timestamp": 1617467954624,
     "user": {
      "displayName": "Gaurav Hazra",
      "photoUrl": "https://lh3.googleusercontent.com/a-/AOh14Gi_odLjqYpDOFHsrWzDr8ElbKesGIy6cg_sCWU5kg=s64",
      "userId": "05091429207485877833"
     },
     "user_tz": -330
    },
    "id": "gJJAK98UCwBC",
    "outputId": "f8c144c3-171a-43c2-9805-165ecd48911b"
   },
   "outputs": [
    {
     "data": {
      "text/plain": [
       "((16, 3, 1), (16, 3, 1))"
      ]
     },
     "execution_count": 35,
     "metadata": {},
     "output_type": "execute_result"
    }
   ],
   "source": [
    "X_train[0].shape, X_test[0].shape"
   ]
  },
  {
   "cell_type": "markdown",
   "metadata": {
    "id": "uKS-TrkFHXPA"
   },
   "source": [
    "### LSTM Model"
   ]
  },
  {
   "cell_type": "code",
   "execution_count": 36,
   "metadata": {
    "executionInfo": {
     "elapsed": 7193,
     "status": "ok",
     "timestamp": 1617467954624,
     "user": {
      "displayName": "Gaurav Hazra",
      "photoUrl": "https://lh3.googleusercontent.com/a-/AOh14Gi_odLjqYpDOFHsrWzDr8ElbKesGIy6cg_sCWU5kg=s64",
      "userId": "05091429207485877833"
     },
     "user_tz": -330
    },
    "id": "e9BfrHi3Hf2K"
   },
   "outputs": [],
   "source": [
    "# from keras.models import Sequential\n",
    "# from keras.layers import Dense\n",
    "# from keras.layers import LSTM\n",
    "# from keras.preprocessing import sequence\n",
    "# from keras.layers.convolutional import Conv1D\n",
    "# from keras.layers.convolutional import MaxPooling1D"
   ]
  },
  {
   "cell_type": "code",
   "execution_count": 37,
   "metadata": {
    "executionInfo": {
     "elapsed": 7190,
     "status": "ok",
     "timestamp": 1617467954625,
     "user": {
      "displayName": "Gaurav Hazra",
      "photoUrl": "https://lh3.googleusercontent.com/a-/AOh14Gi_odLjqYpDOFHsrWzDr8ElbKesGIy6cg_sCWU5kg=s64",
      "userId": "05091429207485877833"
     },
     "user_tz": -330
    },
    "id": "EoT8U8Q1HS4W"
   },
   "outputs": [],
   "source": [
    "# model = Sequential()\n",
    "# model.add(Conv1D(filters=32, kernel_size=3, padding='same', activation='relu', input_shape=(20, 3)))\n",
    "# model.add(MaxPooling1D(pool_size=2))\n",
    "# model.add(LSTM(100))\n",
    "# model.add(Dense(1, activation='sigmoid'))\n",
    "# model.compile(loss='binary_crossentropy', optimizer='adam', metrics=['accuracy'])\n",
    "# print(model.summary())"
   ]
  },
  {
   "cell_type": "code",
   "execution_count": 38,
   "metadata": {
    "executionInfo": {
     "elapsed": 7186,
     "status": "ok",
     "timestamp": 1617467954625,
     "user": {
      "displayName": "Gaurav Hazra",
      "photoUrl": "https://lh3.googleusercontent.com/a-/AOh14Gi_odLjqYpDOFHsrWzDr8ElbKesGIy6cg_sCWU5kg=s64",
      "userId": "05091429207485877833"
     },
     "user_tz": -330
    },
    "id": "QhFatZ9rMo7_"
   },
   "outputs": [],
   "source": [
    "# epoch=50\n",
    "# history = model.fit(X_train,\n",
    "#                     y_train,\n",
    "#                     batch_size=64,\n",
    "#                     epochs = epoch,\n",
    "#                     validation_data = (X_test, y_test),\n",
    "#                     verbose=1)"
   ]
  },
  {
   "cell_type": "code",
   "execution_count": 39,
   "metadata": {
    "executionInfo": {
     "elapsed": 7182,
     "status": "ok",
     "timestamp": 1617467954626,
     "user": {
      "displayName": "Gaurav Hazra",
      "photoUrl": "https://lh3.googleusercontent.com/a-/AOh14Gi_odLjqYpDOFHsrWzDr8ElbKesGIy6cg_sCWU5kg=s64",
      "userId": "05091429207485877833"
     },
     "user_tz": -330
    },
    "id": "gkg4WKUsNYdN"
   },
   "outputs": [],
   "source": [
    "# plot_learningCurve(history, epoch)"
   ]
  },
  {
   "cell_type": "markdown",
   "metadata": {
    "id": "ytZGoSaxCwBD"
   },
   "source": [
    "### 2D CNN Model "
   ]
  },
  {
   "cell_type": "code",
   "execution_count": 40,
   "metadata": {
    "executionInfo": {
     "elapsed": 12379,
     "status": "ok",
     "timestamp": 1617467959827,
     "user": {
      "displayName": "Gaurav Hazra",
      "photoUrl": "https://lh3.googleusercontent.com/a-/AOh14Gi_odLjqYpDOFHsrWzDr8ElbKesGIy6cg_sCWU5kg=s64",
      "userId": "05091429207485877833"
     },
     "user_tz": -330
    },
    "id": "aLcb0WqECwBD"
   },
   "outputs": [
    {
     "name": "stdout",
     "output_type": "stream",
     "text": [
      "Model: \"sequential\"\n",
      "_________________________________________________________________\n",
      "Layer (type)                 Output Shape              Param #   \n",
      "=================================================================\n",
      "conv2d (Conv2D)              (None, 15, 2, 16)         80        \n",
      "_________________________________________________________________\n",
      "dropout (Dropout)            (None, 15, 2, 16)         0         \n",
      "_________________________________________________________________\n",
      "conv2d_1 (Conv2D)            (None, 15, 2, 32)         2080      \n",
      "_________________________________________________________________\n",
      "dropout_1 (Dropout)          (None, 15, 2, 32)         0         \n",
      "_________________________________________________________________\n",
      "conv2d_2 (Conv2D)            (None, 15, 2, 32)         4128      \n",
      "_________________________________________________________________\n",
      "dropout_2 (Dropout)          (None, 15, 2, 32)         0         \n",
      "_________________________________________________________________\n",
      "flatten (Flatten)            (None, 960)               0         \n",
      "_________________________________________________________________\n",
      "dense (Dense)                (None, 64)                61504     \n",
      "_________________________________________________________________\n",
      "dropout_3 (Dropout)          (None, 64)                0         \n",
      "_________________________________________________________________\n",
      "dense_1 (Dense)              (None, 1)                 65        \n",
      "=================================================================\n",
      "Total params: 67,857\n",
      "Trainable params: 67,857\n",
      "Non-trainable params: 0\n",
      "_________________________________________________________________\n"
     ]
    }
   ],
   "source": [
    "model = tf.keras.Sequential()\n",
    "model.add(Conv2D(16, (2, 2), activation = 'relu', input_shape = X_train[0].shape))\n",
    "model.add(Dropout(0.2))\n",
    "\n",
    "model.add(Conv2D(32, (2, 2), activation='relu', padding='same'))\n",
    "model.add(Dropout(0.5))\n",
    "\n",
    "model.add(Conv2D(32, (2, 2), activation='relu', padding='same'))\n",
    "model.add(Dropout(0.5))\n",
    "\n",
    "model.add(Flatten())\n",
    "\n",
    "model.add(Dense(64, activation = 'relu'))\n",
    "model.add(Dropout(0.5))\n",
    "\n",
    "#model.add(Dense(labels+1, activation='softmax'))\n",
    "model.add(Dense(1,activation='sigmoid'))\n",
    "\n",
    "model.summary()"
   ]
  },
  {
   "cell_type": "code",
   "execution_count": 41,
   "metadata": {
    "executionInfo": {
     "elapsed": 12375,
     "status": "ok",
     "timestamp": 1617467959827,
     "user": {
      "displayName": "Gaurav Hazra",
      "photoUrl": "https://lh3.googleusercontent.com/a-/AOh14Gi_odLjqYpDOFHsrWzDr8ElbKesGIy6cg_sCWU5kg=s64",
      "userId": "05091429207485877833"
     },
     "user_tz": -330
    },
    "id": "nQehYI0qCwBE"
   },
   "outputs": [],
   "source": [
    "model.compile(optimizer=Adam(learning_rate = 0.0009), loss = 'binary_crossentropy', metrics = ['accuracy'])"
   ]
  },
  {
   "cell_type": "code",
   "execution_count": 42,
   "metadata": {
    "colab": {
     "base_uri": "https://localhost:8080/"
    },
    "executionInfo": {
     "elapsed": 170296,
     "status": "ok",
     "timestamp": 1617468117758,
     "user": {
      "displayName": "Gaurav Hazra",
      "photoUrl": "https://lh3.googleusercontent.com/a-/AOh14Gi_odLjqYpDOFHsrWzDr8ElbKesGIy6cg_sCWU5kg=s64",
      "userId": "05091429207485877833"
     },
     "user_tz": -330
    },
    "id": "NM1m8ydRCwBE",
    "outputId": "9aaa68b9-94d2-4ca0-f71e-c96121c095ef"
   },
   "outputs": [
    {
     "name": "stdout",
     "output_type": "stream",
     "text": [
      "Epoch 1/80\n",
      "414/414 [==============================] - 4s 8ms/step - loss: 0.5094 - accuracy: 0.7494 - val_loss: 0.4269 - val_accuracy: 0.7972\n",
      "Epoch 2/80\n",
      "414/414 [==============================] - 2s 5ms/step - loss: 0.4322 - accuracy: 0.7967 - val_loss: 0.4314 - val_accuracy: 0.8096\n",
      "Epoch 3/80\n",
      "414/414 [==============================] - 2s 5ms/step - loss: 0.4238 - accuracy: 0.7957 - val_loss: 0.4153 - val_accuracy: 0.8163\n",
      "Epoch 4/80\n",
      "414/414 [==============================] - 2s 5ms/step - loss: 0.4254 - accuracy: 0.8043 - val_loss: 0.4111 - val_accuracy: 0.8181\n",
      "Epoch 5/80\n",
      "414/414 [==============================] - 2s 5ms/step - loss: 0.4183 - accuracy: 0.8111 - val_loss: 0.4077 - val_accuracy: 0.8172\n",
      "Epoch 6/80\n",
      "414/414 [==============================] - 2s 6ms/step - loss: 0.4173 - accuracy: 0.8135 - val_loss: 0.4028 - val_accuracy: 0.8244\n",
      "Epoch 7/80\n",
      "414/414 [==============================] - 2s 5ms/step - loss: 0.4101 - accuracy: 0.8193 - val_loss: 0.3874 - val_accuracy: 0.8256\n",
      "Epoch 8/80\n",
      "414/414 [==============================] - 2s 5ms/step - loss: 0.3979 - accuracy: 0.8237 - val_loss: 0.3710 - val_accuracy: 0.8380\n",
      "Epoch 9/80\n",
      "414/414 [==============================] - 2s 5ms/step - loss: 0.3673 - accuracy: 0.8378 - val_loss: 0.2966 - val_accuracy: 0.8749\n",
      "Epoch 10/80\n",
      "414/414 [==============================] - 2s 5ms/step - loss: 0.3069 - accuracy: 0.8705 - val_loss: 0.2172 - val_accuracy: 0.9184\n",
      "Epoch 11/80\n",
      "414/414 [==============================] - 2s 5ms/step - loss: 0.2648 - accuracy: 0.9006 - val_loss: 0.1990 - val_accuracy: 0.9272\n",
      "Epoch 12/80\n",
      "414/414 [==============================] - 2s 5ms/step - loss: 0.2388 - accuracy: 0.9114 - val_loss: 0.1829 - val_accuracy: 0.9311\n",
      "Epoch 13/80\n",
      "414/414 [==============================] - 2s 5ms/step - loss: 0.2299 - accuracy: 0.9144 - val_loss: 0.1705 - val_accuracy: 0.9374\n",
      "Epoch 14/80\n",
      "414/414 [==============================] - 2s 5ms/step - loss: 0.2168 - accuracy: 0.9218 - val_loss: 0.1615 - val_accuracy: 0.9441\n",
      "Epoch 15/80\n",
      "414/414 [==============================] - 2s 5ms/step - loss: 0.2134 - accuracy: 0.9239 - val_loss: 0.1813 - val_accuracy: 0.9296\n",
      "Epoch 16/80\n",
      "414/414 [==============================] - 2s 5ms/step - loss: 0.2031 - accuracy: 0.9335 - val_loss: 0.1720 - val_accuracy: 0.9371\n",
      "Epoch 17/80\n",
      "414/414 [==============================] - 2s 5ms/step - loss: 0.2065 - accuracy: 0.9294 - val_loss: 0.1575 - val_accuracy: 0.9447\n",
      "Epoch 18/80\n",
      "414/414 [==============================] - 2s 5ms/step - loss: 0.2079 - accuracy: 0.9274 - val_loss: 0.1569 - val_accuracy: 0.9453\n",
      "Epoch 19/80\n",
      "414/414 [==============================] - 2s 5ms/step - loss: 0.1961 - accuracy: 0.9305 - val_loss: 0.1552 - val_accuracy: 0.9462\n",
      "Epoch 20/80\n",
      "414/414 [==============================] - 2s 6ms/step - loss: 0.2012 - accuracy: 0.9292 - val_loss: 0.1633 - val_accuracy: 0.9411\n",
      "Epoch 21/80\n",
      "414/414 [==============================] - 2s 5ms/step - loss: 0.1866 - accuracy: 0.9338 - val_loss: 0.1499 - val_accuracy: 0.9486\n",
      "Epoch 22/80\n",
      "414/414 [==============================] - 2s 5ms/step - loss: 0.1938 - accuracy: 0.9327 - val_loss: 0.1573 - val_accuracy: 0.9438\n",
      "Epoch 23/80\n",
      "414/414 [==============================] - 2s 5ms/step - loss: 0.1830 - accuracy: 0.9365 - val_loss: 0.1487 - val_accuracy: 0.9516\n",
      "Epoch 24/80\n",
      "414/414 [==============================] - 2s 6ms/step - loss: 0.1908 - accuracy: 0.9383 - val_loss: 0.1458 - val_accuracy: 0.9516\n",
      "Epoch 25/80\n",
      "414/414 [==============================] - 2s 5ms/step - loss: 0.1911 - accuracy: 0.9331 - val_loss: 0.1531 - val_accuracy: 0.9438\n",
      "Epoch 26/80\n",
      "414/414 [==============================] - 2s 5ms/step - loss: 0.1831 - accuracy: 0.9345 - val_loss: 0.1478 - val_accuracy: 0.9489\n",
      "Epoch 27/80\n",
      "414/414 [==============================] - 2s 6ms/step - loss: 0.1809 - accuracy: 0.9379 - val_loss: 0.1583 - val_accuracy: 0.9441\n",
      "Epoch 28/80\n",
      "414/414 [==============================] - 2s 6ms/step - loss: 0.1847 - accuracy: 0.9350 - val_loss: 0.1479 - val_accuracy: 0.9498\n",
      "Epoch 29/80\n",
      "414/414 [==============================] - 2s 6ms/step - loss: 0.1903 - accuracy: 0.9336 - val_loss: 0.1574 - val_accuracy: 0.9456\n",
      "Epoch 30/80\n",
      "414/414 [==============================] - 2s 5ms/step - loss: 0.1854 - accuracy: 0.9364 - val_loss: 0.1481 - val_accuracy: 0.9492\n",
      "Epoch 31/80\n",
      "414/414 [==============================] - 2s 5ms/step - loss: 0.1784 - accuracy: 0.9400 - val_loss: 0.1545 - val_accuracy: 0.9462\n",
      "Epoch 32/80\n",
      "414/414 [==============================] - 2s 5ms/step - loss: 0.1778 - accuracy: 0.9394 - val_loss: 0.1419 - val_accuracy: 0.9541\n",
      "Epoch 33/80\n",
      "414/414 [==============================] - 2s 5ms/step - loss: 0.1791 - accuracy: 0.9373 - val_loss: 0.1411 - val_accuracy: 0.9516\n",
      "Epoch 34/80\n",
      "414/414 [==============================] - 2s 5ms/step - loss: 0.1759 - accuracy: 0.9373 - val_loss: 0.1436 - val_accuracy: 0.9532\n",
      "Epoch 35/80\n",
      "414/414 [==============================] - 2s 6ms/step - loss: 0.1755 - accuracy: 0.9390 - val_loss: 0.1460 - val_accuracy: 0.9492\n",
      "Epoch 36/80\n",
      "414/414 [==============================] - 2s 6ms/step - loss: 0.1837 - accuracy: 0.9350 - val_loss: 0.1395 - val_accuracy: 0.9538\n",
      "Epoch 37/80\n",
      "414/414 [==============================] - 2s 5ms/step - loss: 0.1714 - accuracy: 0.9401 - val_loss: 0.1564 - val_accuracy: 0.9420\n",
      "Epoch 38/80\n",
      "414/414 [==============================] - 2s 5ms/step - loss: 0.1802 - accuracy: 0.9398 - val_loss: 0.1443 - val_accuracy: 0.9495\n",
      "Epoch 39/80\n",
      "414/414 [==============================] - 2s 5ms/step - loss: 0.1769 - accuracy: 0.9385 - val_loss: 0.1408 - val_accuracy: 0.9535\n",
      "Epoch 40/80\n",
      "414/414 [==============================] - 2s 5ms/step - loss: 0.1649 - accuracy: 0.9426 - val_loss: 0.1409 - val_accuracy: 0.9507\n",
      "Epoch 41/80\n",
      "414/414 [==============================] - 2s 5ms/step - loss: 0.1706 - accuracy: 0.9419 - val_loss: 0.1379 - val_accuracy: 0.9550\n",
      "Epoch 42/80\n",
      "414/414 [==============================] - 2s 5ms/step - loss: 0.1732 - accuracy: 0.9419 - val_loss: 0.1519 - val_accuracy: 0.9474\n",
      "Epoch 43/80\n",
      "414/414 [==============================] - 2s 5ms/step - loss: 0.1723 - accuracy: 0.9394 - val_loss: 0.1374 - val_accuracy: 0.9535\n",
      "Epoch 44/80\n",
      "414/414 [==============================] - 2s 5ms/step - loss: 0.1708 - accuracy: 0.9390 - val_loss: 0.1415 - val_accuracy: 0.9526\n",
      "Epoch 45/80\n",
      "414/414 [==============================] - 2s 5ms/step - loss: 0.1686 - accuracy: 0.9421 - val_loss: 0.1398 - val_accuracy: 0.9535\n",
      "Epoch 46/80\n",
      "414/414 [==============================] - 2s 6ms/step - loss: 0.1685 - accuracy: 0.9416 - val_loss: 0.1498 - val_accuracy: 0.9459\n",
      "Epoch 47/80\n",
      "414/414 [==============================] - 2s 5ms/step - loss: 0.1669 - accuracy: 0.9437 - val_loss: 0.1409 - val_accuracy: 0.9519\n",
      "Epoch 48/80\n",
      "414/414 [==============================] - 2s 6ms/step - loss: 0.1729 - accuracy: 0.9405 - val_loss: 0.1369 - val_accuracy: 0.9544\n",
      "Epoch 49/80\n",
      "414/414 [==============================] - 2s 6ms/step - loss: 0.1692 - accuracy: 0.9409 - val_loss: 0.1374 - val_accuracy: 0.9541\n",
      "Epoch 50/80\n",
      "414/414 [==============================] - 2s 5ms/step - loss: 0.1650 - accuracy: 0.9422 - val_loss: 0.1355 - val_accuracy: 0.9544\n",
      "Epoch 51/80\n",
      "414/414 [==============================] - 2s 5ms/step - loss: 0.1651 - accuracy: 0.9425 - val_loss: 0.1447 - val_accuracy: 0.9468\n",
      "Epoch 52/80\n",
      "414/414 [==============================] - 2s 5ms/step - loss: 0.1678 - accuracy: 0.9372 - val_loss: 0.1482 - val_accuracy: 0.9498\n",
      "Epoch 53/80\n",
      "414/414 [==============================] - 2s 5ms/step - loss: 0.1597 - accuracy: 0.9448 - val_loss: 0.1443 - val_accuracy: 0.9492\n",
      "Epoch 54/80\n",
      "414/414 [==============================] - 2s 6ms/step - loss: 0.1623 - accuracy: 0.9405 - val_loss: 0.1347 - val_accuracy: 0.9553\n",
      "Epoch 55/80\n",
      "414/414 [==============================] - 2s 6ms/step - loss: 0.1699 - accuracy: 0.9394 - val_loss: 0.1434 - val_accuracy: 0.9507\n",
      "Epoch 56/80\n",
      "414/414 [==============================] - 2s 5ms/step - loss: 0.1744 - accuracy: 0.9388 - val_loss: 0.1345 - val_accuracy: 0.9523\n",
      "Epoch 57/80\n",
      "414/414 [==============================] - 2s 6ms/step - loss: 0.1688 - accuracy: 0.9423 - val_loss: 0.1374 - val_accuracy: 0.9550\n",
      "Epoch 58/80\n"
     ]
    },
    {
     "name": "stdout",
     "output_type": "stream",
     "text": [
      "414/414 [==============================] - 2s 6ms/step - loss: 0.1705 - accuracy: 0.9413 - val_loss: 0.1364 - val_accuracy: 0.9526\n",
      "Epoch 59/80\n",
      "414/414 [==============================] - 2s 6ms/step - loss: 0.1547 - accuracy: 0.9469 - val_loss: 0.1360 - val_accuracy: 0.9529\n",
      "Epoch 60/80\n",
      "414/414 [==============================] - 2s 6ms/step - loss: 0.1643 - accuracy: 0.9450 - val_loss: 0.1353 - val_accuracy: 0.9544\n",
      "Epoch 61/80\n",
      "414/414 [==============================] - 3s 6ms/step - loss: 0.1683 - accuracy: 0.9404 - val_loss: 0.1358 - val_accuracy: 0.9535\n",
      "Epoch 62/80\n",
      "414/414 [==============================] - 3s 6ms/step - loss: 0.1621 - accuracy: 0.9464 - val_loss: 0.1317 - val_accuracy: 0.9541\n",
      "Epoch 63/80\n",
      "414/414 [==============================] - 3s 6ms/step - loss: 0.1659 - accuracy: 0.9442 - val_loss: 0.1469 - val_accuracy: 0.9501\n",
      "Epoch 64/80\n",
      "414/414 [==============================] - 2s 6ms/step - loss: 0.1620 - accuracy: 0.9409 - val_loss: 0.1344 - val_accuracy: 0.9541\n",
      "Epoch 65/80\n",
      "414/414 [==============================] - 2s 5ms/step - loss: 0.1603 - accuracy: 0.9451 - val_loss: 0.1357 - val_accuracy: 0.9523\n",
      "Epoch 66/80\n",
      "414/414 [==============================] - 2s 6ms/step - loss: 0.1617 - accuracy: 0.9455 - val_loss: 0.1447 - val_accuracy: 0.9483\n",
      "Epoch 67/80\n",
      "414/414 [==============================] - 2s 6ms/step - loss: 0.1604 - accuracy: 0.9441 - val_loss: 0.1314 - val_accuracy: 0.9550\n",
      "Epoch 68/80\n",
      "414/414 [==============================] - 2s 6ms/step - loss: 0.1609 - accuracy: 0.9446 - val_loss: 0.1370 - val_accuracy: 0.9529\n",
      "Epoch 69/80\n",
      "414/414 [==============================] - 2s 6ms/step - loss: 0.1594 - accuracy: 0.9446 - val_loss: 0.1458 - val_accuracy: 0.9471\n",
      "Epoch 70/80\n",
      "414/414 [==============================] - 2s 5ms/step - loss: 0.1696 - accuracy: 0.9401 - val_loss: 0.1395 - val_accuracy: 0.9510\n",
      "Epoch 71/80\n",
      "414/414 [==============================] - 2s 5ms/step - loss: 0.1541 - accuracy: 0.9467 - val_loss: 0.1350 - val_accuracy: 0.9544\n",
      "Epoch 72/80\n",
      "414/414 [==============================] - 2s 5ms/step - loss: 0.1582 - accuracy: 0.9445 - val_loss: 0.1300 - val_accuracy: 0.9577\n",
      "Epoch 73/80\n",
      "414/414 [==============================] - 2s 5ms/step - loss: 0.1549 - accuracy: 0.9458 - val_loss: 0.1296 - val_accuracy: 0.9550\n",
      "Epoch 74/80\n",
      "414/414 [==============================] - 2s 5ms/step - loss: 0.1627 - accuracy: 0.9422 - val_loss: 0.1354 - val_accuracy: 0.9556\n",
      "Epoch 75/80\n",
      "414/414 [==============================] - 2s 6ms/step - loss: 0.1692 - accuracy: 0.9398 - val_loss: 0.1367 - val_accuracy: 0.9544\n",
      "Epoch 76/80\n",
      "414/414 [==============================] - 2s 5ms/step - loss: 0.1699 - accuracy: 0.9437 - val_loss: 0.1351 - val_accuracy: 0.9547\n",
      "Epoch 77/80\n",
      "414/414 [==============================] - 2s 6ms/step - loss: 0.1607 - accuracy: 0.9422 - val_loss: 0.1395 - val_accuracy: 0.9510\n",
      "Epoch 78/80\n",
      "414/414 [==============================] - 2s 6ms/step - loss: 0.1536 - accuracy: 0.9468 - val_loss: 0.1376 - val_accuracy: 0.9513\n",
      "Epoch 79/80\n",
      "414/414 [==============================] - 2s 5ms/step - loss: 0.1566 - accuracy: 0.9452 - val_loss: 0.1499 - val_accuracy: 0.9474\n",
      "Epoch 80/80\n",
      "414/414 [==============================] - 2s 5ms/step - loss: 0.1564 - accuracy: 0.9463 - val_loss: 0.1367 - val_accuracy: 0.9519\n"
     ]
    }
   ],
   "source": [
    "epoch=80\n",
    "callback = tf.keras.callbacks.EarlyStopping(monitor='loss', patience=15)\n",
    "# , shuffle= \"TRUE\"\n",
    "history = model.fit(X_train, y_train, batch_size=32, callbacks=[callback], epochs = epoch, validation_data= (X_test, y_test), verbose=1)"
   ]
  },
  {
   "cell_type": "code",
   "execution_count": 43,
   "metadata": {
    "executionInfo": {
     "elapsed": 170293,
     "status": "ok",
     "timestamp": 1617468117760,
     "user": {
      "displayName": "Gaurav Hazra",
      "photoUrl": "https://lh3.googleusercontent.com/a-/AOh14Gi_odLjqYpDOFHsrWzDr8ElbKesGIy6cg_sCWU5kg=s64",
      "userId": "05091429207485877833"
     },
     "user_tz": -330
    },
    "id": "Eaoi8wwpCwBF"
   },
   "outputs": [],
   "source": [
    "def plot_learningCurve(history, epochs):\n",
    "  # Plot training & validation accuracy values\n",
    "  epoch_range = range(1, epochs+1)\n",
    "  plt.plot(epoch_range, history.history['accuracy'])\n",
    "  plt.plot(epoch_range, history.history['val_accuracy'])\n",
    "  plt.title('Model accuracy')\n",
    "  plt.ylabel('Accuracy')\n",
    "  plt.xlabel('Epoch')\n",
    "  plt.legend(['Train', 'Val'], loc='upper left')\n",
    "  plt.show()\n",
    "\n",
    "  # Plot training & validation loss values\n",
    "  plt.plot(epoch_range, history.history['loss'])\n",
    "  plt.plot(epoch_range, history.history['val_loss'])\n",
    "  plt.title('Model loss')\n",
    "  plt.ylabel('Loss')\n",
    "  plt.xlabel('Epoch')\n",
    "  plt.legend(['Train', 'Val'], loc='upper left')\n",
    "  plt.show()"
   ]
  },
  {
   "cell_type": "code",
   "execution_count": 44,
   "metadata": {
    "colab": {
     "base_uri": "https://localhost:8080/",
     "height": 0
    },
    "executionInfo": {
     "elapsed": 170290,
     "status": "ok",
     "timestamp": 1617468117761,
     "user": {
      "displayName": "Gaurav Hazra",
      "photoUrl": "https://lh3.googleusercontent.com/a-/AOh14Gi_odLjqYpDOFHsrWzDr8ElbKesGIy6cg_sCWU5kg=s64",
      "userId": "05091429207485877833"
     },
     "user_tz": -330
    },
    "id": "ECVHIoAtCwBF",
    "outputId": "d8444800-517a-485a-e32c-9fc2429807c4"
   },
   "outputs": [
    {
     "data": {
      "image/png": "[encoded data removed]",
      "text/plain": [
       "<Figure size 432x288 with 1 Axes>"
      ]
     },
     "metadata": {
      "needs_background": "light"
     },
     "output_type": "display_data"
    },
    {
     "data": {
      "image/png": "[encoded data removed]",
      "text/plain": [
       "<Figure size 432x288 with 1 Axes>"
      ]
     },
     "metadata": {
      "needs_background": "light"
     },
     "output_type": "display_data"
    }
   ],
   "source": [
    "epoch=len(history.history['loss'])\n",
    "plot_learningCurve(history, epoch)"
   ]
  },
  {
   "cell_type": "markdown",
   "metadata": {
    "id": "jN4Khu3LCwBG"
   },
   "source": [
    "### Confusion Matrix "
   ]
  },
  {
   "cell_type": "code",
   "execution_count": 45,
   "metadata": {
    "executionInfo": {
     "elapsed": 170286,
     "status": "ok",
     "timestamp": 1617468117762,
     "user": {
      "displayName": "Gaurav Hazra",
      "photoUrl": "https://lh3.googleusercontent.com/a-/AOh14Gi_odLjqYpDOFHsrWzDr8ElbKesGIy6cg_sCWU5kg=s64",
      "userId": "05091429207485877833"
     },
     "user_tz": -330
    },
    "id": "dMcZdCWYCwBM"
   },
   "outputs": [],
   "source": [
    "from mlxtend.plotting import plot_confusion_matrix\n",
    "from sklearn.metrics import confusion_matrix"
   ]
  },
  {
   "cell_type": "code",
   "execution_count": 46,
   "metadata": {
    "colab": {
     "base_uri": "https://localhost:8080/"
    },
    "executionInfo": {
     "elapsed": 170944,
     "status": "ok",
     "timestamp": 1617468118424,
     "user": {
      "displayName": "Gaurav Hazra",
      "photoUrl": "https://lh3.googleusercontent.com/a-/AOh14Gi_odLjqYpDOFHsrWzDr8ElbKesGIy6cg_sCWU5kg=s64",
      "userId": "05091429207485877833"
     },
     "user_tz": -330
    },
    "id": "zw0P7W4OCwBM",
    "outputId": "d4310896-ce10-4f23-d4ff-9f8f4e590548"
   },
   "outputs": [
    {
     "name": "stdout",
     "output_type": "stream",
     "text": [
      "[[0]\n",
      " [0]\n",
      " [0]\n",
      " ...\n",
      " [1]\n",
      " [0]\n",
      " [0]]\n",
      "<class 'numpy.ndarray'>\n"
     ]
    }
   ],
   "source": [
    "y_pred = (model.predict(X_test) > 0.5).astype(\"int32\")\n",
    "print(y_pred)\n",
    "print(type(y_pred))"
   ]
  },
  {
   "cell_type": "code",
   "execution_count": 47,
   "metadata": {
    "colab": {
     "base_uri": "https://localhost:8080/",
     "height": 0
    },
    "executionInfo": {
     "elapsed": 170941,
     "status": "ok",
     "timestamp": 1617468118425,
     "user": {
      "displayName": "Gaurav Hazra",
      "photoUrl": "https://lh3.googleusercontent.com/a-/AOh14Gi_odLjqYpDOFHsrWzDr8ElbKesGIy6cg_sCWU5kg=s64",
      "userId": "05091429207485877833"
     },
     "user_tz": -330
    },
    "id": "QkgSMdcZq02f",
    "outputId": "6c3459ff-7313-46fe-8a2a-7673bc9d4436"
   },
   "outputs": [
    {
     "data": {
      "text/plain": [
       "(<Figure size 504x504 with 1 Axes>,\n",
       " <AxesSubplot:xlabel='predicted label', ylabel='true label'>)"
      ]
     },
     "execution_count": 47,
     "metadata": {},
     "output_type": "execute_result"
    },
    {
     "data": {
      "image/png": "[encoded data removed]",
      "text/plain": [
       "<Figure size 504x504 with 1 Axes>"
      ]
     },
     "metadata": {
      "needs_background": "light"
     },
     "output_type": "display_data"
    }
   ],
   "source": [
    "mat = confusion_matrix(y_test, y_pred)\n",
    "plot_confusion_matrix(conf_mat=mat, show_normed=True, figsize=(7,7), class_names=label.classes_)"
   ]
  },
  {
   "cell_type": "code",
   "execution_count": 48,
   "metadata": {
    "colab": {
     "base_uri": "https://localhost:8080/"
    },
    "executionInfo": {
     "elapsed": 170938,
     "status": "ok",
     "timestamp": 1617468118426,
     "user": {
      "displayName": "Gaurav Hazra",
      "photoUrl": "https://lh3.googleusercontent.com/a-/AOh14Gi_odLjqYpDOFHsrWzDr8ElbKesGIy6cg_sCWU5kg=s64",
      "userId": "05091429207485877833"
     },
     "user_tz": -330
    },
    "id": "gea9qjT2Wt7g",
    "outputId": "3313e453-5883-4e1d-fd7f-7c0f2f1a6f9a"
   },
   "outputs": [
    {
     "name": "stdout",
     "output_type": "stream",
     "text": [
      "              precision    recall  f1-score   support\n",
      "\n",
      "           0       0.92      0.99      0.95      1655\n",
      "           1       0.98      0.92      0.95      1654\n",
      "\n",
      "    accuracy                           0.95      3309\n",
      "   macro avg       0.95      0.95      0.95      3309\n",
      "weighted avg       0.95      0.95      0.95      3309\n",
      "\n"
     ]
    }
   ],
   "source": [
    "from sklearn.metrics import classification_report\n",
    "#target_names = [\"Class {}\".format(i) for i in range(labels)]\n",
    "print(classification_report(y_test, y_pred)) # target_names=label.classes_"
   ]
  },
  {
   "cell_type": "markdown",
   "metadata": {
    "id": "Lc5Q6-kBYMsZ"
   },
   "source": [
    "\n",
    "\n",
    "*   The traditional Accuracy is a good measure if you have quite balanced datasets and are interested in all types of outputs equally.\n",
    "\n",
    "*   Precision is great to focus on if you want to minimize false positives. For example, you build a spam email classifier. You want to see as little spam as possible. But you do not want to miss any important, non-spam emails. In such cases, you may wish to aim for maximizing precision.\n",
    "\n",
    "*  Recall is very important in domains such as medical (e.g., identifying cancer), where you really want to minimize the chance of missing positive cases (predicting false negatives). These are typically cases where missing a positive case has a much bigger cost than wrongly classifying something as positive.\n",
    "\n",
    "\n",
    "*  F1-score combines precision and recall, and works also for cases where the datasets are imbalanced as it requires both precision and recall to have a reasonable value, as demonstrated by the experiments I showed in this post. Even if you have a small number of positive cases vs negative cases, the formula will weight the metric value down if the precision or recall of the positive class is low."
   ]
  },
  {
   "cell_type": "code",
   "execution_count": 49,
   "metadata": {
    "colab": {
     "base_uri": "https://localhost:8080/"
    },
    "executionInfo": {
     "elapsed": 170935,
     "status": "ok",
     "timestamp": 1617468118427,
     "user": {
      "displayName": "Gaurav Hazra",
      "photoUrl": "https://lh3.googleusercontent.com/a-/AOh14Gi_odLjqYpDOFHsrWzDr8ElbKesGIy6cg_sCWU5kg=s64",
      "userId": "05091429207485877833"
     },
     "user_tz": -330
    },
    "id": "tw9ZmJgoU-ir",
    "outputId": "a935f80c-6c03-4df4-a472-21b51a05be57"
   },
   "outputs": [
    {
     "data": {
      "text/plain": [
       "0.9519390875183115"
      ]
     },
     "execution_count": 49,
     "metadata": {},
     "output_type": "execute_result"
    }
   ],
   "source": [
    "import numpy as np\n",
    "from sklearn.metrics import roc_auc_score\n",
    "roc_auc_score(y_test, y_pred)"
   ]
  },
  {
   "cell_type": "markdown",
   "metadata": {
    "id": "6wr3l5HTYjwv"
   },
   "source": [
    "### Saving the Model"
   ]
  },
  {
   "cell_type": "code",
   "execution_count": 50,
   "metadata": {
    "colab": {
     "base_uri": "https://localhost:8080/"
    },
    "executionInfo": {
     "elapsed": 176347,
     "status": "ok",
     "timestamp": 1617468123852,
     "user": {
      "displayName": "Gaurav Hazra",
      "photoUrl": "https://lh3.googleusercontent.com/a-/AOh14Gi_odLjqYpDOFHsrWzDr8ElbKesGIy6cg_sCWU5kg=s64",
      "userId": "05091429207485877833"
     },
     "user_tz": -330
    },
    "id": "bmohNmTWYidj",
    "outputId": "77abdcd9-81c3-4cad-c287-9a5e478e481c"
   },
   "outputs": [
    {
     "name": "stdout",
     "output_type": "stream",
     "text": [
      "INFO:tensorflow:Assets written to: fall_detect_v3.model\\assets\n"
     ]
    }
   ],
   "source": [
    "# model.save('fall_detect_v3.model')\n",
    "model.save('fall_detect_v3.h5')"
   ]
  },
  {
   "cell_type": "code",
   "execution_count": 51,
   "metadata": {
    "colab": {
     "base_uri": "https://localhost:8080/"
    },
    "executionInfo": {
     "elapsed": 172239,
     "status": "ok",
     "timestamp": 1617468119735,
     "user": {
      "displayName": "Gaurav Hazra",
      "photoUrl": "https://lh3.googleusercontent.com/a-/AOh14Gi_odLjqYpDOFHsrWzDr8ElbKesGIy6cg_sCWU5kg=s64",
      "userId": "05091429207485877833"
     },
     "user_tz": -330
    },
    "id": "eAqdjs5SVoSU",
    "outputId": "95708341-9125-42a5-879e-e5b6b7258008"
   },
   "outputs": [],
   "source": [
    "# import os\n",
    "# # Fetch the Keras session and save the model\n",
    "# # The signature definition is defined by the input and output tensors,\n",
    "# # and stored with the default serving key\n",
    "# import tempfile\n",
    "\n",
    "# MODEL_DIR = tempfile.gettempdir()\n",
    "# version = 1\n",
    "# export_path = os.path.join(MODEL_DIR, str(version))\n",
    "# print('export_path = {}\\n'.format(export_path))\n",
    "\n",
    "# tf.keras.models.save_model(\n",
    "#     model,\n",
    "#     export_path,\n",
    "#     overwrite=True,\n",
    "#     include_optimizer=True,\n",
    "#     save_format=None,\n",
    "#     signatures=None,\n",
    "#     options=None\n",
    "# )\n",
    "\n",
    "# print('\\nSaved model:')"
   ]
  },
  {
   "cell_type": "code",
   "execution_count": 52,
   "metadata": {
    "colab": {
     "base_uri": "https://localhost:8080/"
    },
    "executionInfo": {
     "elapsed": 175337,
     "status": "ok",
     "timestamp": 1617468122837,
     "user": {
      "displayName": "Gaurav Hazra",
      "photoUrl": "https://lh3.googleusercontent.com/a-/AOh14Gi_odLjqYpDOFHsrWzDr8ElbKesGIy6cg_sCWU5kg=s64",
      "userId": "05091429207485877833"
     },
     "user_tz": -330
    },
    "id": "5AQgwvmZma9s",
    "outputId": "b9a71a18-1403-4de9-e7b0-d951f392b2a5"
   },
   "outputs": [],
   "source": [
    "# !pip install pyyaml h5py  # Required to save models in HDF5 format"
   ]
  },
  {
   "cell_type": "code",
   "execution_count": 53,
   "metadata": {
    "executionInfo": {
     "elapsed": 176344,
     "status": "ok",
     "timestamp": 1617468123854,
     "user": {
      "displayName": "Gaurav Hazra",
      "photoUrl": "https://lh3.googleusercontent.com/a-/AOh14Gi_odLjqYpDOFHsrWzDr8ElbKesGIy6cg_sCWU5kg=s64",
      "userId": "05091429207485877833"
     },
     "user_tz": -330
    },
    "id": "FqwW1xSPCwBN"
   },
   "outputs": [],
   "source": [
    "# Convert the model.\n",
    "#converter = tf.lite.TFLiteConverter.from_keras_model(model)\n",
    "#tflite_model = converter.convert()\n",
    "\n",
    "# Save the model.\n",
    "#with open('model.tflite', 'wb') as f:\n",
    "#  f.write(tflite_model)"
   ]
  },
  {
   "cell_type": "code",
   "execution_count": 54,
   "metadata": {
    "colab": {
     "base_uri": "https://localhost:8080/",
     "height": 0
    },
    "executionInfo": {
     "elapsed": 176347,
     "status": "error",
     "timestamp": 1617468123862,
     "user": {
      "displayName": "Gaurav Hazra",
      "photoUrl": "https://lh3.googleusercontent.com/a-/AOh14Gi_odLjqYpDOFHsrWzDr8ElbKesGIy6cg_sCWU5kg=s64",
      "userId": "05091429207485877833"
     },
     "user_tz": -330
    },
    "id": "nwd6TpVzXPNV",
    "outputId": "84623e3e-d6d5-41cb-f685-6953868c1ad7"
   },
   "outputs": [
    {
     "ename": "NameError",
     "evalue": "name '_metadata_fb' is not defined",
     "output_type": "error",
     "traceback": [
      "\u001b[1;31m---------------------------------------------------------------------------\u001b[0m",
      "\u001b[1;31mNameError\u001b[0m                                 Traceback (most recent call last)",
      "\u001b[1;32m<ipython-input-54-b8179c2fcf1c>\u001b[0m in \u001b[0;36m<module>\u001b[1;34m\u001b[0m\n\u001b[1;32m----> 1\u001b[1;33m \u001b[0mmodel_meta\u001b[0m \u001b[1;33m=\u001b[0m \u001b[0m_metadata_fb\u001b[0m\u001b[1;33m.\u001b[0m\u001b[0mModelMetadataT\u001b[0m\u001b[1;33m(\u001b[0m\u001b[1;33m)\u001b[0m\u001b[1;33m\u001b[0m\u001b[1;33m\u001b[0m\u001b[0m\n\u001b[0m\u001b[0;32m      2\u001b[0m \u001b[0mmodel_meta\u001b[0m\u001b[1;33m.\u001b[0m\u001b[0mname\u001b[0m \u001b[1;33m=\u001b[0m \u001b[1;34m\"MobileNetV1 image classifier\"\u001b[0m\u001b[1;33m\u001b[0m\u001b[1;33m\u001b[0m\u001b[0m\n\u001b[0;32m      3\u001b[0m model_meta.description = (\"Identify the most prominent object in the \"\n\u001b[0;32m      4\u001b[0m                           \u001b[1;34m\"image from a set of 1,001 categories such as \"\u001b[0m\u001b[1;33m\u001b[0m\u001b[1;33m\u001b[0m\u001b[0m\n\u001b[0;32m      5\u001b[0m                           \"trees, animals, food, vehicles, person etc.\")\n",
      "\u001b[1;31mNameError\u001b[0m: name '_metadata_fb' is not defined"
     ]
    }
   ],
   "source": [
    "model_meta = _metadata_fb.ModelMetadataT()\n",
    "model_meta.name = \"MobileNetV1 image classifier\"\n",
    "model_meta.description = (\"Identify the most prominent object in the \"\n",
    "                          \"image from a set of 1,001 categories such as \"\n",
    "                          \"trees, animals, food, vehicles, person etc.\")\n",
    "model_meta.version = \"v1\"\n",
    "model_meta.author = \"TensorFlow\"\n",
    "model_meta.license = (\"Apache License. Version 2.0 \"\n",
    "                      \"http://www.apache.org/licenses/LICENSE-2.0.\")"
   ]
  },
  {
   "cell_type": "code",
   "execution_count": null,
   "metadata": {},
   "outputs": [],
   "source": []
  },
  {
   "cell_type": "markdown",
   "metadata": {
    "id": "vc_ZXn1o7Dib"
   },
   "source": [
    "### Keras Tuner\n",
    "\n"
   ]
  },
  {
   "cell_type": "code",
   "execution_count": null,
   "metadata": {
    "executionInfo": {
     "elapsed": 176337,
     "status": "aborted",
     "timestamp": 1617468123855,
     "user": {
      "displayName": "Gaurav Hazra",
      "photoUrl": "https://lh3.googleusercontent.com/a-/AOh14Gi_odLjqYpDOFHsrWzDr8ElbKesGIy6cg_sCWU5kg=s64",
      "userId": "05091429207485877833"
     },
     "user_tz": -330
    },
    "id": "8CZThhfAsZ98"
   },
   "outputs": [],
   "source": [
    "pip install keras-tuner"
   ]
  },
  {
   "cell_type": "code",
   "execution_count": null,
   "metadata": {
    "executionInfo": {
     "elapsed": 176334,
     "status": "aborted",
     "timestamp": 1617468123856,
     "user": {
      "displayName": "Gaurav Hazra",
      "photoUrl": "https://lh3.googleusercontent.com/a-/AOh14Gi_odLjqYpDOFHsrWzDr8ElbKesGIy6cg_sCWU5kg=s64",
      "userId": "05091429207485877833"
     },
     "user_tz": -330
    },
    "id": "bhGbDIFstFaz"
   },
   "outputs": [],
   "source": [
    "def model_builder(hp):\n",
    "  model = keras.Sequential()\n",
    "  model.add(keras.layers.Flatten(input_shape=(100, 3, 1)))\n",
    "\n",
    "  # Tune the number of units in the first Dense layer\n",
    "  # Choose an optimal value between 16-512\n",
    "  \n",
    "  hp_units = hp.Int('units', min_value = 16, max_value = 512, step = 32)\n",
    "  model.add(keras.layers.Dense(units = hp_units, activation = 'relu'))\n",
    "  model.add(keras.layers.Dense(64))\n",
    "\n",
    "  # Tune the learning rate for the optimizer \n",
    "  # Choose an optimal value from 0.01, 0.001, or 0.0001\n",
    "  \n",
    "  hp_learning_rate = hp.Choice('learning_rate', values = [1e-2, 1e-3, 1e-4]) \n",
    "\n",
    "  model.compile(optimizer = keras.optimizers.Adam(learning_rate = hp_learning_rate),\n",
    "                loss = keras.losses.SparseCategoricalCrossentropy(from_logits = True), \n",
    "                metrics = ['accuracy'])\n",
    "\n",
    "  return model\n",
    "\n",
    "##model = tf.keras.Sequential()\n",
    "#model.add(Conv2D(16, (2, 2), activation = 'relu', input_shape = X_train[0].shape))\n",
    "#model.add(Dropout(0.1))\n",
    "\n",
    "#model.add(Conv2D(32, (2, 2), activation='relu'))\n",
    "#model.add(Dropout(0.2))\n",
    "\n",
    "#model.add(Flatten())\n",
    "\n",
    "#model.add(Dense(64, activation = 'relu'))\n",
    "#model.add(Dropout(0.4))\n",
    "\n",
    "#model.add(Dense(labels+1, activation='softmax'))"
   ]
  },
  {
   "cell_type": "code",
   "execution_count": null,
   "metadata": {
    "executionInfo": {
     "elapsed": 176331,
     "status": "aborted",
     "timestamp": 1617468123857,
     "user": {
      "displayName": "Gaurav Hazra",
      "photoUrl": "https://lh3.googleusercontent.com/a-/AOh14Gi_odLjqYpDOFHsrWzDr8ElbKesGIy6cg_sCWU5kg=s64",
      "userId": "05091429207485877833"
     },
     "user_tz": -330
    },
    "id": "_SRURiyV3WtN"
   },
   "outputs": [],
   "source": [
    "def model_builder(hp):\n",
    "  model = tf.keras.Sequential()\n",
    "  model.add(Conv2D(filters=hyperparam.Int('convolution_1',min_value=16, max_value=128, step=16), \n",
    "                   kernel_size=hyperparam.Choice('convolution_1', values = [2,6]), activation='relu',input_shape=X_train[0].shape)\n",
    "  model.add(Conv2D(filters=hyperparam.Int('convolution_2', min_value=16, max_value=128, step=16), kernel_size = hyperparam.Choice('convolution_2', values = [2,6]), activation='relu'),\n",
    "  model.add(Dropout(0.2))\n",
    "\n",
    "  model.add(Flatten())\n",
    "\n",
    "  model.add(Dense(64), activation = 'relu'))\n",
    "  model.add(Dropout(0.4))\n",
    "\n",
    "  model.add(Dense(labels+1, activation='softmax'))\n",
    "  model.compile(optimizer=keras.optimizers.Adam(hyperparam.Choice('learning_rate', values=[1e-2, 1e-3, 1e-4])),\n",
    "                loss= keras.losses.SparseCategoricalCrossentropy(from_logits = True),\n",
    "                metrics=['accuracy'])\n",
    "  return model"
   ]
  },
  {
   "cell_type": "code",
   "execution_count": null,
   "metadata": {
    "executionInfo": {
     "elapsed": 176328,
     "status": "aborted",
     "timestamp": 1617468123858,
     "user": {
      "displayName": "Gaurav Hazra",
      "photoUrl": "https://lh3.googleusercontent.com/a-/AOh14Gi_odLjqYpDOFHsrWzDr8ElbKesGIy6cg_sCWU5kg=s64",
      "userId": "05091429207485877833"
     },
     "user_tz": -330
    },
    "id": "DUxwx-0jtkVE"
   },
   "outputs": [],
   "source": [
    "import kerastuner as kt\n",
    "from tensorflow import keras\n",
    "tuner = kt.Hyperband(model_builder,\n",
    "                     objective = 'val_accuracy', \n",
    "                     max_epochs = 20,\n",
    "                     factor = 3,\n",
    "                     directory = 'my_dir',\n",
    "                     project_name = 'intro_to_kt')"
   ]
  },
  {
   "cell_type": "code",
   "execution_count": null,
   "metadata": {
    "executionInfo": {
     "elapsed": 176325,
     "status": "aborted",
     "timestamp": 1617468123858,
     "user": {
      "displayName": "Gaurav Hazra",
      "photoUrl": "https://lh3.googleusercontent.com/a-/AOh14Gi_odLjqYpDOFHsrWzDr8ElbKesGIy6cg_sCWU5kg=s64",
      "userId": "05091429207485877833"
     },
     "user_tz": -330
    },
    "id": "ngaCN3WHuppF"
   },
   "outputs": [],
   "source": [
    "import IPython\n",
    "class ClearTrainingOutput(tf.keras.callbacks.Callback):\n",
    "  def on_train_end(*args, **kwargs):\n",
    "    IPython.display.clear_output(wait = True)"
   ]
  },
  {
   "cell_type": "code",
   "execution_count": null,
   "metadata": {
    "executionInfo": {
     "elapsed": 176321,
     "status": "aborted",
     "timestamp": 1617468123859,
     "user": {
      "displayName": "Gaurav Hazra",
      "photoUrl": "https://lh3.googleusercontent.com/a-/AOh14Gi_odLjqYpDOFHsrWzDr8ElbKesGIy6cg_sCWU5kg=s64",
      "userId": "05091429207485877833"
     },
     "user_tz": -330
    },
    "id": "EqgEq6BY8WFP"
   },
   "outputs": [],
   "source": [
    "tuner.get_best_hyperparameters()[0].values"
   ]
  },
  {
   "cell_type": "code",
   "execution_count": null,
   "metadata": {
    "executionInfo": {
     "elapsed": 176318,
     "status": "aborted",
     "timestamp": 1617468123861,
     "user": {
      "displayName": "Gaurav Hazra",
      "photoUrl": "https://lh3.googleusercontent.com/a-/AOh14Gi_odLjqYpDOFHsrWzDr8ElbKesGIy6cg_sCWU5kg=s64",
      "userId": "05091429207485877833"
     },
     "user_tz": -330
    },
    "id": "2EtF7D69uG_u"
   },
   "outputs": [],
   "source": [
    "tuner.search(X_train, y_train, epochs = 50, validation_data = (X_test, y_test), callbacks = [ClearTrainingOutput()])\n",
    "\n",
    "# Get the optimal hyperparameters\n",
    "best_hps = tuner.get_best_hyperparameters(num_trials = 1)[0]\n",
    "\n",
    "print(f\"\"\"\n",
    "The hyperparameter search is complete. The optimal number of units in the first densely-connected\n",
    "layer is {best_hps.get('units')} and the optimal learning rate for the optimizer\n",
    "is {best_hps.get('learning_rate')}.\n",
    "\"\"\")"
   ]
  }
 ],
 "metadata": {
  "accelerator": "GPU",
  "colab": {
   "collapsed_sections": [],
   "name": "Human_Fall_Detectionipynb",
   "provenance": [],
   "toc_visible": true
  },
  "kernelspec": {
   "display_name": "Python 3",
   "language": "python",
   "name": "python3"
  },
  "language_info": {
   "codemirror_mode": {
    "name": "ipython",
    "version": 3
   },
   "file_extension": ".py",
   "mimetype": "text/x-python",
   "name": "python",
   "nbconvert_exporter": "python",
   "pygments_lexer": "ipython3",
   "version": "3.8.5"
  }
 },
 "nbformat": 4,
 "nbformat_minor": 1
}
