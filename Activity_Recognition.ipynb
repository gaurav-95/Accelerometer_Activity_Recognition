{
 "cells": [
  {
   "cell_type": "markdown",
   "metadata": {
    "id": "-35OWlmJLy1u"
   },
   "source": [
    "# Human Activity Recognition\n"
   ]
  },
  {
   "cell_type": "markdown",
   "metadata": {
    "id": "RNjqIGeZCwAh"
   },
   "source": [
    "Dataset Link: https://sites.google.com/up.edu.mx/har-up/"
   ]
  },
  {
   "cell_type": "code",
   "execution_count": 1,
   "metadata": {
    "colab": {
     "base_uri": "https://localhost:8080/"
    },
    "id": "dCTgR-Z-CwAj",
    "outputId": "52cf3a77-d8eb-43e4-e80f-ab83906c3115"
   },
   "outputs": [
    {
     "name": "stdout",
     "output_type": "stream",
     "text": [
      "2.4.1\n"
     ]
    }
   ],
   "source": [
    "import tensorflow as tf\n",
    "from tensorflow.keras.models import Sequential\n",
    "from tensorflow.keras import layers\n",
    "from tensorflow.keras.layers import Flatten, Dense, Dropout, BatchNormalization\n",
    "from tensorflow.keras.layers import Conv2D, MaxPool2D\n",
    "from tensorflow.keras.optimizers import Adam\n",
    "print(tf.__version__)"
   ]
  },
  {
   "cell_type": "code",
   "execution_count": 2,
   "metadata": {
    "id": "RxR4JFwZCwAl"
   },
   "outputs": [],
   "source": [
    "import pandas as pd\n",
    "import numpy as np\n",
    "import matplotlib.pyplot as plt\n",
    "from sklearn.model_selection import train_test_split\n",
    "from sklearn import preprocessing\n",
    "from sklearn.preprocessing import StandardScaler, MaxAbsScaler, LabelEncoder, MinMaxScaler"
   ]
  },
  {
   "cell_type": "markdown",
   "metadata": {
    "id": "nkZdKGTfCwAm"
   },
   "source": [
    "#### Map the data labels to values"
   ]
  },
  {
   "cell_type": "code",
   "execution_count": 3,
   "metadata": {},
   "outputs": [],
   "source": [
    "# accdata.drop('Unnamed: 0', 1, inplace=True)\n",
    "# accdata"
   ]
  },
  {
   "cell_type": "code",
   "execution_count": 4,
   "metadata": {},
   "outputs": [],
   "source": [
    "# def generate_three_IMU(name):\n",
    "#     x = name +'_x'\n",
    "#     y = name +'_y'\n",
    "#     z = name +'_z'\n",
    "#     return [x,y,z]\n",
    "\n",
    "# def generate_four_IMU(name):\n",
    "#     x = name +'_x'\n",
    "#     y = name +'_y'\n",
    "#     z = name +'_z'\n",
    "#     w = name +'_w'\n",
    "#     return [x,y,z,w]\n",
    "\n",
    "# def generate_cols_IMU(name):\n",
    "#     # temp\n",
    "#     temp = name+'_temperature'\n",
    "#     output = [temp]\n",
    "#     # acceleration 16\n",
    "#     acceleration16 = name+'_3D_acceleration_16'\n",
    "#     acceleration16 = generate_three_IMU(acceleration16)\n",
    "#     output.extend(acceleration16)\n",
    "#     # acceleration 6\n",
    "#     acceleration6 = name+'_3D_acceleration_6'\n",
    "#     acceleration6 = generate_three_IMU(acceleration6)\n",
    "#     output.extend(acceleration6)\n",
    "#     # gyroscope\n",
    "#     gyroscope = name+'_3D_gyroscope'\n",
    "#     gyroscope = generate_three_IMU(gyroscope)\n",
    "#     output.extend(gyroscope)\n",
    "#     # magnometer\n",
    "#     magnometer = name+'_3D_magnetometer'\n",
    "#     magnometer = generate_three_IMU(magnometer)\n",
    "#     output.extend(magnometer)\n",
    "#     # oreintation\n",
    "#     oreintation = name+'_4D_orientation'\n",
    "#     oreintation = generate_four_IMU(oreintation)\n",
    "#     output.extend(oreintation)\n",
    "#     return output\n",
    "\n",
    "# def load_IMU():\n",
    "#     output = ['time_stamp','activity_id', 'heart_rate']\n",
    "#     hand = 'hand'\n",
    "#     hand = generate_cols_IMU(hand)\n",
    "#     output.extend(hand)\n",
    "#     chest = 'chest'\n",
    "#     chest = generate_cols_IMU(chest)\n",
    "#     output.extend(chest)\n",
    "#     ankle = 'ankle'\n",
    "#     ankle = generate_cols_IMU(ankle)\n",
    "#     output.extend(ankle)\n",
    "#     return output\n",
    "    \n",
    "# def load_subjects(root='C:/Users/Gaurav/Downloads/new data/PAMAP2_Dataset/Optional/subject'):\n",
    "#     output = pd.DataFrame()\n",
    "#     cols = load_IMU()\n",
    "    \n",
    "#     for i in range(101,106):\n",
    "#         path = root + str(i) +'.dat'\n",
    "#         subject = pd.read_table(path, header=None, sep='\\s+')\n",
    "#         subject.columns = cols \n",
    "#         subject['id'] = i\n",
    "#         output = output.append(subject, ignore_index=True)\n",
    "#     output.reset_index(drop=True, inplace=True)\n",
    "#     return output\n",
    "\n",
    "# data = load_subjects()"
   ]
  },
  {
   "cell_type": "code",
   "execution_count": 5,
   "metadata": {},
   "outputs": [],
   "source": [
    "# data"
   ]
  },
  {
   "cell_type": "code",
   "execution_count": 6,
   "metadata": {
    "id": "GgTcsEfP4jWs"
   },
   "outputs": [],
   "source": [
    "# def fix_data(data):\n",
    "#     data = data.drop(data[data['activity_id']==0].index)\n",
    "#     data = data.interpolate()\n",
    "#     # fill all the NaN values in a coulmn with the mean values of the column\n",
    "#     for colName in data.columns:\n",
    "#         data[colName] = data[colName].fillna(data[colName].mean())\n",
    "#     activity_mean = data.groupby(['activity_id']).mean().reset_index()\n",
    "#     return data\n",
    "\n",
    "# data = fix_data(data)"
   ]
  },
  {
   "cell_type": "code",
   "execution_count": 7,
   "metadata": {},
   "outputs": [],
   "source": [
    "# data"
   ]
  },
  {
   "cell_type": "code",
   "execution_count": 8,
   "metadata": {},
   "outputs": [],
   "source": [
    "# data.to_csv('ALLdat2.csv')"
   ]
  },
  {
   "cell_type": "code",
   "execution_count": 9,
   "metadata": {
    "colab": {
     "base_uri": "https://localhost:8080/",
     "height": 195
    },
    "id": "oObgNbIRCwAq",
    "outputId": "c10df665-09db-469d-f3b5-ff8458302262"
   },
   "outputs": [],
   "source": [
    "# accdata = data[['activity_id', 'hand_3D_acceleration_16_x', 'hand_3D_acceleration_16_y', 'hand_3D_acceleration_16_z', 'hand_3D_acceleration_6_x', 'hand_3D_acceleration_6_y', 'hand_3D_acceleration_6_z']]\n",
    "# accdata"
   ]
  },
  {
   "cell_type": "code",
   "execution_count": 10,
   "metadata": {},
   "outputs": [],
   "source": [
    "# accdata.to_csv('optoriaccdat.csv')"
   ]
  },
  {
   "cell_type": "markdown",
   "metadata": {},
   "source": [
    "### Code to combine csv"
   ]
  },
  {
   "cell_type": "code",
   "execution_count": 11,
   "metadata": {},
   "outputs": [],
   "source": [
    "# import os\n",
    "# import glob\n",
    "# import pandas as pd\n",
    "# os.chdir(\"C:/Users/Gaurav/Downloads/Accelerometer\")"
   ]
  },
  {
   "cell_type": "code",
   "execution_count": 12,
   "metadata": {},
   "outputs": [],
   "source": [
    "# extension = 'csv'\n",
    "# all_filenames = [i for i in glob.glob('*.{}'.format(extension))]"
   ]
  },
  {
   "cell_type": "code",
   "execution_count": 13,
   "metadata": {},
   "outputs": [],
   "source": [
    "# #combine all files in the list\n",
    "# combined_csv = pd.concat([pd.read_csv(f) for f in all_filenames ])\n",
    "# #export to csv\n",
    "# combined_csv.to_csv( \"acc_act_sw_01-04-2021.csv\", index=False, encoding='utf-8-sig')"
   ]
  },
  {
   "cell_type": "code",
   "execution_count": 14,
   "metadata": {},
   "outputs": [],
   "source": [
    "# accdata.rename(columns={'hand_3D_acceleration_16_x': 'x', 'hand_3D_acceleration_16_y': 'y', 'hand_3D_acceleration_16_z': 'z'}, inplace=True)\n",
    "# accdata"
   ]
  },
  {
   "cell_type": "code",
   "execution_count": 15,
   "metadata": {},
   "outputs": [],
   "source": [
    "#  accdata.to_csv('PAMAP2accel16.csv')"
   ]
  },
  {
   "cell_type": "code",
   "execution_count": 16,
   "metadata": {},
   "outputs": [
    {
     "data": {
      "text/plain": [
       "'C:\\\\Users\\\\Gaurav\\\\Downloads\\\\Accelerometer\\\\Testing_Folder'"
      ]
     },
     "execution_count": 16,
     "metadata": {},
     "output_type": "execute_result"
    }
   ],
   "source": [
    "import os\n",
    "os.getcwd()"
   ]
  },
  {
   "cell_type": "code",
   "execution_count": 17,
   "metadata": {},
   "outputs": [
    {
     "data": {
      "text/html": [
       "<div>\n",
       "<style scoped>\n",
       "    .dataframe tbody tr th:only-of-type {\n",
       "        vertical-align: middle;\n",
       "    }\n",
       "\n",
       "    .dataframe tbody tr th {\n",
       "        vertical-align: top;\n",
       "    }\n",
       "\n",
       "    .dataframe thead th {\n",
       "        text-align: right;\n",
       "    }\n",
       "</style>\n",
       "<table border=\"1\" class=\"dataframe\">\n",
       "  <thead>\n",
       "    <tr style=\"text-align: right;\">\n",
       "      <th></th>\n",
       "      <th>x</th>\n",
       "      <th>y</th>\n",
       "      <th>z</th>\n",
       "      <th>label</th>\n",
       "    </tr>\n",
       "  </thead>\n",
       "  <tbody>\n",
       "    <tr>\n",
       "      <th>0</th>\n",
       "      <td>0.398438</td>\n",
       "      <td>0.281250</td>\n",
       "      <td>0.375000</td>\n",
       "      <td>Running</td>\n",
       "    </tr>\n",
       "    <tr>\n",
       "      <th>1</th>\n",
       "      <td>-0.789062</td>\n",
       "      <td>0.000000</td>\n",
       "      <td>-0.890625</td>\n",
       "      <td>Running</td>\n",
       "    </tr>\n",
       "    <tr>\n",
       "      <th>2</th>\n",
       "      <td>0.125000</td>\n",
       "      <td>0.820312</td>\n",
       "      <td>0.750000</td>\n",
       "      <td>Running</td>\n",
       "    </tr>\n",
       "    <tr>\n",
       "      <th>3</th>\n",
       "      <td>0.109375</td>\n",
       "      <td>-0.351562</td>\n",
       "      <td>-0.835938</td>\n",
       "      <td>Running</td>\n",
       "    </tr>\n",
       "    <tr>\n",
       "      <th>4</th>\n",
       "      <td>0.351562</td>\n",
       "      <td>0.843750</td>\n",
       "      <td>0.281250</td>\n",
       "      <td>Running</td>\n",
       "    </tr>\n",
       "    <tr>\n",
       "      <th>...</th>\n",
       "      <td>...</td>\n",
       "      <td>...</td>\n",
       "      <td>...</td>\n",
       "      <td>...</td>\n",
       "    </tr>\n",
       "    <tr>\n",
       "      <th>295895</th>\n",
       "      <td>0.796875</td>\n",
       "      <td>0.453125</td>\n",
       "      <td>0.703125</td>\n",
       "      <td>Running</td>\n",
       "    </tr>\n",
       "    <tr>\n",
       "      <th>295896</th>\n",
       "      <td>0.453125</td>\n",
       "      <td>-0.023438</td>\n",
       "      <td>0.195312</td>\n",
       "      <td>Running</td>\n",
       "    </tr>\n",
       "    <tr>\n",
       "      <th>295897</th>\n",
       "      <td>0.218750</td>\n",
       "      <td>-0.359375</td>\n",
       "      <td>0.656250</td>\n",
       "      <td>Running</td>\n",
       "    </tr>\n",
       "    <tr>\n",
       "      <th>295898</th>\n",
       "      <td>0.078125</td>\n",
       "      <td>-0.585938</td>\n",
       "      <td>-0.867188</td>\n",
       "      <td>Running</td>\n",
       "    </tr>\n",
       "    <tr>\n",
       "      <th>295899</th>\n",
       "      <td>-0.070312</td>\n",
       "      <td>-0.929688</td>\n",
       "      <td>0.671875</td>\n",
       "      <td>Running</td>\n",
       "    </tr>\n",
       "  </tbody>\n",
       "</table>\n",
       "<p>295900 rows × 4 columns</p>\n",
       "</div>"
      ],
      "text/plain": [
       "               x         y         z    label\n",
       "0       0.398438  0.281250  0.375000  Running\n",
       "1      -0.789062  0.000000 -0.890625  Running\n",
       "2       0.125000  0.820312  0.750000  Running\n",
       "3       0.109375 -0.351562 -0.835938  Running\n",
       "4       0.351562  0.843750  0.281250  Running\n",
       "...          ...       ...       ...      ...\n",
       "295895  0.796875  0.453125  0.703125  Running\n",
       "295896  0.453125 -0.023438  0.195312  Running\n",
       "295897  0.218750 -0.359375  0.656250  Running\n",
       "295898  0.078125 -0.585938 -0.867188  Running\n",
       "295899 -0.070312 -0.929688  0.671875  Running\n",
       "\n",
       "[295900 rows x 4 columns]"
      ]
     },
     "execution_count": 17,
     "metadata": {},
     "output_type": "execute_result"
    }
   ],
   "source": [
    "#colnames=['time', 'x', 'y', 'z', 'xlin','ylin','zlin','gyrx','gyry','gyrz','magx','magy','magz', 'activity'] #for smartatwrist dataset\n",
    "accdata=pd.read_csv('C:/Users/Gaurav/Downloads/Accelerometer/Testing_Folder/2021-04-28_all.csv') #names=colnames\n",
    "accdata"
   ]
  },
  {
   "cell_type": "code",
   "execution_count": 18,
   "metadata": {},
   "outputs": [
    {
     "data": {
      "text/html": [
       "<div>\n",
       "<style scoped>\n",
       "    .dataframe tbody tr th:only-of-type {\n",
       "        vertical-align: middle;\n",
       "    }\n",
       "\n",
       "    .dataframe tbody tr th {\n",
       "        vertical-align: top;\n",
       "    }\n",
       "\n",
       "    .dataframe thead th {\n",
       "        text-align: right;\n",
       "    }\n",
       "</style>\n",
       "<table border=\"1\" class=\"dataframe\">\n",
       "  <thead>\n",
       "    <tr style=\"text-align: right;\">\n",
       "      <th></th>\n",
       "      <th>x</th>\n",
       "      <th>y</th>\n",
       "      <th>z</th>\n",
       "      <th>activity</th>\n",
       "    </tr>\n",
       "  </thead>\n",
       "  <tbody>\n",
       "    <tr>\n",
       "      <th>0</th>\n",
       "      <td>0.398438</td>\n",
       "      <td>0.281250</td>\n",
       "      <td>0.375000</td>\n",
       "      <td>Running</td>\n",
       "    </tr>\n",
       "    <tr>\n",
       "      <th>1</th>\n",
       "      <td>-0.789062</td>\n",
       "      <td>0.000000</td>\n",
       "      <td>-0.890625</td>\n",
       "      <td>Running</td>\n",
       "    </tr>\n",
       "    <tr>\n",
       "      <th>2</th>\n",
       "      <td>0.125000</td>\n",
       "      <td>0.820312</td>\n",
       "      <td>0.750000</td>\n",
       "      <td>Running</td>\n",
       "    </tr>\n",
       "    <tr>\n",
       "      <th>3</th>\n",
       "      <td>0.109375</td>\n",
       "      <td>-0.351562</td>\n",
       "      <td>-0.835938</td>\n",
       "      <td>Running</td>\n",
       "    </tr>\n",
       "    <tr>\n",
       "      <th>4</th>\n",
       "      <td>0.351562</td>\n",
       "      <td>0.843750</td>\n",
       "      <td>0.281250</td>\n",
       "      <td>Running</td>\n",
       "    </tr>\n",
       "    <tr>\n",
       "      <th>...</th>\n",
       "      <td>...</td>\n",
       "      <td>...</td>\n",
       "      <td>...</td>\n",
       "      <td>...</td>\n",
       "    </tr>\n",
       "    <tr>\n",
       "      <th>295895</th>\n",
       "      <td>0.796875</td>\n",
       "      <td>0.453125</td>\n",
       "      <td>0.703125</td>\n",
       "      <td>Running</td>\n",
       "    </tr>\n",
       "    <tr>\n",
       "      <th>295896</th>\n",
       "      <td>0.453125</td>\n",
       "      <td>-0.023438</td>\n",
       "      <td>0.195312</td>\n",
       "      <td>Running</td>\n",
       "    </tr>\n",
       "    <tr>\n",
       "      <th>295897</th>\n",
       "      <td>0.218750</td>\n",
       "      <td>-0.359375</td>\n",
       "      <td>0.656250</td>\n",
       "      <td>Running</td>\n",
       "    </tr>\n",
       "    <tr>\n",
       "      <th>295898</th>\n",
       "      <td>0.078125</td>\n",
       "      <td>-0.585938</td>\n",
       "      <td>-0.867188</td>\n",
       "      <td>Running</td>\n",
       "    </tr>\n",
       "    <tr>\n",
       "      <th>295899</th>\n",
       "      <td>-0.070312</td>\n",
       "      <td>-0.929688</td>\n",
       "      <td>0.671875</td>\n",
       "      <td>Running</td>\n",
       "    </tr>\n",
       "  </tbody>\n",
       "</table>\n",
       "<p>295900 rows × 4 columns</p>\n",
       "</div>"
      ],
      "text/plain": [
       "               x         y         z activity\n",
       "0       0.398438  0.281250  0.375000  Running\n",
       "1      -0.789062  0.000000 -0.890625  Running\n",
       "2       0.125000  0.820312  0.750000  Running\n",
       "3       0.109375 -0.351562 -0.835938  Running\n",
       "4       0.351562  0.843750  0.281250  Running\n",
       "...          ...       ...       ...      ...\n",
       "295895  0.796875  0.453125  0.703125  Running\n",
       "295896  0.453125 -0.023438  0.195312  Running\n",
       "295897  0.218750 -0.359375  0.656250  Running\n",
       "295898  0.078125 -0.585938 -0.867188  Running\n",
       "295899 -0.070312 -0.929688  0.671875  Running\n",
       "\n",
       "[295900 rows x 4 columns]"
      ]
     },
     "execution_count": 18,
     "metadata": {},
     "output_type": "execute_result"
    }
   ],
   "source": [
    "#accdata.rename(columns={'activity_id':'activity','hand_3D_acceleration_6_x':'x','hand_3D_acceleration_6_y':'y','hand_3D_acceleration_6_z':'z'}, inplace=True)\n",
    "accdata.rename(columns={'label':'activity'}, inplace=True)\n",
    "accdata"
   ]
  },
  {
   "cell_type": "code",
   "execution_count": 19,
   "metadata": {},
   "outputs": [
    {
     "data": {
      "text/html": [
       "<div>\n",
       "<style scoped>\n",
       "    .dataframe tbody tr th:only-of-type {\n",
       "        vertical-align: middle;\n",
       "    }\n",
       "\n",
       "    .dataframe tbody tr th {\n",
       "        vertical-align: top;\n",
       "    }\n",
       "\n",
       "    .dataframe thead th {\n",
       "        text-align: right;\n",
       "    }\n",
       "</style>\n",
       "<table border=\"1\" class=\"dataframe\">\n",
       "  <thead>\n",
       "    <tr style=\"text-align: right;\">\n",
       "      <th></th>\n",
       "      <th>activity</th>\n",
       "      <th>x</th>\n",
       "      <th>y</th>\n",
       "      <th>z</th>\n",
       "    </tr>\n",
       "  </thead>\n",
       "  <tbody>\n",
       "    <tr>\n",
       "      <th>0</th>\n",
       "      <td>Running</td>\n",
       "      <td>0.398438</td>\n",
       "      <td>0.281250</td>\n",
       "      <td>0.375000</td>\n",
       "    </tr>\n",
       "    <tr>\n",
       "      <th>1</th>\n",
       "      <td>Running</td>\n",
       "      <td>-0.789062</td>\n",
       "      <td>0.000000</td>\n",
       "      <td>-0.890625</td>\n",
       "    </tr>\n",
       "    <tr>\n",
       "      <th>2</th>\n",
       "      <td>Running</td>\n",
       "      <td>0.125000</td>\n",
       "      <td>0.820312</td>\n",
       "      <td>0.750000</td>\n",
       "    </tr>\n",
       "    <tr>\n",
       "      <th>3</th>\n",
       "      <td>Running</td>\n",
       "      <td>0.109375</td>\n",
       "      <td>-0.351562</td>\n",
       "      <td>-0.835938</td>\n",
       "    </tr>\n",
       "    <tr>\n",
       "      <th>4</th>\n",
       "      <td>Running</td>\n",
       "      <td>0.351562</td>\n",
       "      <td>0.843750</td>\n",
       "      <td>0.281250</td>\n",
       "    </tr>\n",
       "    <tr>\n",
       "      <th>...</th>\n",
       "      <td>...</td>\n",
       "      <td>...</td>\n",
       "      <td>...</td>\n",
       "      <td>...</td>\n",
       "    </tr>\n",
       "    <tr>\n",
       "      <th>295895</th>\n",
       "      <td>Running</td>\n",
       "      <td>0.796875</td>\n",
       "      <td>0.453125</td>\n",
       "      <td>0.703125</td>\n",
       "    </tr>\n",
       "    <tr>\n",
       "      <th>295896</th>\n",
       "      <td>Running</td>\n",
       "      <td>0.453125</td>\n",
       "      <td>-0.023438</td>\n",
       "      <td>0.195312</td>\n",
       "    </tr>\n",
       "    <tr>\n",
       "      <th>295897</th>\n",
       "      <td>Running</td>\n",
       "      <td>0.218750</td>\n",
       "      <td>-0.359375</td>\n",
       "      <td>0.656250</td>\n",
       "    </tr>\n",
       "    <tr>\n",
       "      <th>295898</th>\n",
       "      <td>Running</td>\n",
       "      <td>0.078125</td>\n",
       "      <td>-0.585938</td>\n",
       "      <td>-0.867188</td>\n",
       "    </tr>\n",
       "    <tr>\n",
       "      <th>295899</th>\n",
       "      <td>Running</td>\n",
       "      <td>-0.070312</td>\n",
       "      <td>-0.929688</td>\n",
       "      <td>0.671875</td>\n",
       "    </tr>\n",
       "  </tbody>\n",
       "</table>\n",
       "<p>295900 rows × 4 columns</p>\n",
       "</div>"
      ],
      "text/plain": [
       "       activity         x         y         z\n",
       "0       Running  0.398438  0.281250  0.375000\n",
       "1       Running -0.789062  0.000000 -0.890625\n",
       "2       Running  0.125000  0.820312  0.750000\n",
       "3       Running  0.109375 -0.351562 -0.835938\n",
       "4       Running  0.351562  0.843750  0.281250\n",
       "...         ...       ...       ...       ...\n",
       "295895  Running  0.796875  0.453125  0.703125\n",
       "295896  Running  0.453125 -0.023438  0.195312\n",
       "295897  Running  0.218750 -0.359375  0.656250\n",
       "295898  Running  0.078125 -0.585938 -0.867188\n",
       "295899  Running -0.070312 -0.929688  0.671875\n",
       "\n",
       "[295900 rows x 4 columns]"
      ]
     },
     "execution_count": 19,
     "metadata": {},
     "output_type": "execute_result"
    }
   ],
   "source": [
    "accdata=accdata[['activity','x','y','z']]\n",
    "accdata"
   ]
  },
  {
   "cell_type": "code",
   "execution_count": 20,
   "metadata": {},
   "outputs": [
    {
     "name": "stdout",
     "output_type": "stream",
     "text": [
      "<class 'pandas.core.frame.DataFrame'>\n",
      "RangeIndex: 295900 entries, 0 to 295899\n",
      "Data columns (total 4 columns):\n",
      " #   Column    Non-Null Count   Dtype  \n",
      "---  ------    --------------   -----  \n",
      " 0   activity  295900 non-null  object \n",
      " 1   x         295900 non-null  float64\n",
      " 2   y         295900 non-null  float64\n",
      " 3   z         295900 non-null  float64\n",
      "dtypes: float64(3), object(1)\n",
      "memory usage: 9.0+ MB\n"
     ]
    }
   ],
   "source": [
    "accdata.info()"
   ]
  },
  {
   "cell_type": "code",
   "execution_count": 21,
   "metadata": {},
   "outputs": [
    {
     "data": {
      "text/html": [
       "<div>\n",
       "<style scoped>\n",
       "    .dataframe tbody tr th:only-of-type {\n",
       "        vertical-align: middle;\n",
       "    }\n",
       "\n",
       "    .dataframe tbody tr th {\n",
       "        vertical-align: top;\n",
       "    }\n",
       "\n",
       "    .dataframe thead th {\n",
       "        text-align: right;\n",
       "    }\n",
       "</style>\n",
       "<table border=\"1\" class=\"dataframe\">\n",
       "  <thead>\n",
       "    <tr style=\"text-align: right;\">\n",
       "      <th></th>\n",
       "      <th>x</th>\n",
       "      <th>y</th>\n",
       "      <th>z</th>\n",
       "    </tr>\n",
       "  </thead>\n",
       "  <tbody>\n",
       "    <tr>\n",
       "      <th>count</th>\n",
       "      <td>295900.000000</td>\n",
       "      <td>295900.000000</td>\n",
       "      <td>295900.000000</td>\n",
       "    </tr>\n",
       "    <tr>\n",
       "      <th>mean</th>\n",
       "      <td>0.002838</td>\n",
       "      <td>0.122061</td>\n",
       "      <td>0.060465</td>\n",
       "    </tr>\n",
       "    <tr>\n",
       "      <th>std</th>\n",
       "      <td>0.467432</td>\n",
       "      <td>0.522410</td>\n",
       "      <td>0.622495</td>\n",
       "    </tr>\n",
       "    <tr>\n",
       "      <th>min</th>\n",
       "      <td>-1.000000</td>\n",
       "      <td>-1.000000</td>\n",
       "      <td>-1.000000</td>\n",
       "    </tr>\n",
       "    <tr>\n",
       "      <th>25%</th>\n",
       "      <td>-0.304688</td>\n",
       "      <td>-0.156250</td>\n",
       "      <td>-0.468750</td>\n",
       "    </tr>\n",
       "    <tr>\n",
       "      <th>50%</th>\n",
       "      <td>-0.132812</td>\n",
       "      <td>0.125000</td>\n",
       "      <td>0.085938</td>\n",
       "    </tr>\n",
       "    <tr>\n",
       "      <th>75%</th>\n",
       "      <td>0.406250</td>\n",
       "      <td>0.476562</td>\n",
       "      <td>0.640625</td>\n",
       "    </tr>\n",
       "    <tr>\n",
       "      <th>max</th>\n",
       "      <td>0.992188</td>\n",
       "      <td>0.992188</td>\n",
       "      <td>0.992188</td>\n",
       "    </tr>\n",
       "  </tbody>\n",
       "</table>\n",
       "</div>"
      ],
      "text/plain": [
       "                   x              y              z\n",
       "count  295900.000000  295900.000000  295900.000000\n",
       "mean        0.002838       0.122061       0.060465\n",
       "std         0.467432       0.522410       0.622495\n",
       "min        -1.000000      -1.000000      -1.000000\n",
       "25%        -0.304688      -0.156250      -0.468750\n",
       "50%        -0.132812       0.125000       0.085938\n",
       "75%         0.406250       0.476562       0.640625\n",
       "max         0.992188       0.992188       0.992188"
      ]
     },
     "execution_count": 21,
     "metadata": {},
     "output_type": "execute_result"
    }
   ],
   "source": [
    "accdata.describe()"
   ]
  },
  {
   "cell_type": "code",
   "execution_count": 22,
   "metadata": {},
   "outputs": [
    {
     "name": "stdout",
     "output_type": "stream",
     "text": [
      "activity    0\n",
      "x           0\n",
      "y           0\n",
      "z           0\n",
      "dtype: int64\n",
      "activity    0\n",
      "x           0\n",
      "y           0\n",
      "z           0\n",
      "dtype: int64\n"
     ]
    }
   ],
   "source": [
    "print(accdata.isnull().sum())\n",
    "accdata = accdata.dropna()\n",
    "print(accdata.isnull().sum())"
   ]
  },
  {
   "cell_type": "code",
   "execution_count": 23,
   "metadata": {
    "colab": {
     "base_uri": "https://localhost:8080/"
    },
    "id": "pZbjyX6sCwAu",
    "outputId": "143ac51e-adcc-49b5-8b9b-24f44b589aa0"
   },
   "outputs": [
    {
     "data": {
      "text/plain": [
       "Sitting    129540\n",
       "Walking    106640\n",
       "Running     59720\n",
       "Name: activity, dtype: int64"
      ]
     },
     "execution_count": 23,
     "metadata": {},
     "output_type": "execute_result"
    }
   ],
   "source": [
    "accdata['activity'].value_counts()"
   ]
  },
  {
   "cell_type": "code",
   "execution_count": 24,
   "metadata": {},
   "outputs": [],
   "source": [
    "# map_ac = load_activity_map()\n",
    "# accdata['activity'] = [map_ac[x] for x in accdata['activity']]"
   ]
  },
  {
   "cell_type": "code",
   "execution_count": 25,
   "metadata": {},
   "outputs": [
    {
     "name": "stdout",
     "output_type": "stream",
     "text": [
      "Wall time: 103 ms\n"
     ]
    },
    {
     "data": {
      "text/plain": [
       "[<matplotlib.lines.Line2D at 0x13525f7ea90>]"
      ]
     },
     "execution_count": 25,
     "metadata": {},
     "output_type": "execute_result"
    },
    {
     "data": {
      "image/png": "[encoded data removed]",
      "text/plain": [
       "<Figure size 1224x288 with 1 Axes>"
      ]
     },
     "metadata": {
      "needs_background": "light"
     },
     "output_type": "display_data"
    }
   ],
   "source": [
    "%%time\n",
    "import matplotlib.pyplot as plt\n",
    "plt.figure(figsize=(17, 4))\n",
    "plt.plot(accdata['x'])\n",
    "plt.plot(accdata['y'])\n",
    "plt.plot(accdata['z'])\n"
   ]
  },
  {
   "cell_type": "markdown",
   "metadata": {
    "id": "-KlP3ziDCwAu"
   },
   "source": [
    "## Label Encode Data"
   ]
  },
  {
   "cell_type": "code",
   "execution_count": 26,
   "metadata": {
    "id": "d9RQC9HdCwAw"
   },
   "outputs": [],
   "source": [
    "activities = accdata['activity'].value_counts().index"
   ]
  },
  {
   "cell_type": "code",
   "execution_count": 27,
   "metadata": {
    "colab": {
     "base_uri": "https://localhost:8080/"
    },
    "id": "hO7h9OnYCwAx",
    "outputId": "5109e4a3-77a8-4ba3-dec6-c17c5adda6a1"
   },
   "outputs": [
    {
     "data": {
      "text/plain": [
       "Index(['Sitting', 'Walking', 'Running'], dtype='object')"
      ]
     },
     "execution_count": 27,
     "metadata": {},
     "output_type": "execute_result"
    }
   ],
   "source": [
    "activities"
   ]
  },
  {
   "cell_type": "code",
   "execution_count": 28,
   "metadata": {
    "colab": {
     "base_uri": "https://localhost:8080/"
    },
    "id": "yT__RS0XJHP0",
    "outputId": "6ba773d3-1cb1-4a5e-83f4-dccc6d5052fd"
   },
   "outputs": [
    {
     "name": "stdout",
     "output_type": "stream",
     "text": [
      "59720\n"
     ]
    }
   ],
   "source": [
    "count = min(accdata['activity'].value_counts())\n",
    "print(count)"
   ]
  },
  {
   "cell_type": "code",
   "execution_count": 29,
   "metadata": {
    "id": "j65ojIt5CwA0"
   },
   "outputs": [
    {
     "name": "stdout",
     "output_type": "stream",
     "text": [
      "       activity         x         y         z\n",
      "0       Running  0.398438  0.281250  0.375000\n",
      "1       Running -0.789062  0.000000 -0.890625\n",
      "2       Running  0.125000  0.820312  0.750000\n",
      "3       Running  0.109375 -0.351562 -0.835938\n",
      "4       Running  0.351562  0.843750  0.281250\n",
      "...         ...       ...       ...       ...\n",
      "179155  Running  0.796875  0.453125  0.703125\n",
      "179156  Running  0.453125 -0.023438  0.195312\n",
      "179157  Running  0.218750 -0.359375  0.656250\n",
      "179158  Running  0.078125 -0.585938 -0.867188\n",
      "179159  Running -0.070312 -0.929688  0.671875\n",
      "\n",
      "[179160 rows x 4 columns]\n"
     ]
    }
   ],
   "source": [
    "df=accdata.groupby('activity').head(count).reset_index(drop=True)\n",
    "print(df)"
   ]
  },
  {
   "cell_type": "code",
   "execution_count": 30,
   "metadata": {},
   "outputs": [],
   "source": [
    "# df=accdata"
   ]
  },
  {
   "cell_type": "code",
   "execution_count": 31,
   "metadata": {
    "colab": {
     "base_uri": "https://localhost:8080/"
    },
    "id": "w6daztcBCwA2",
    "outputId": "b16455f5-a1ee-442b-f84f-5317364ba124"
   },
   "outputs": [
    {
     "data": {
      "text/plain": [
       "Running    59720\n",
       "Sitting    59720\n",
       "Walking    59720\n",
       "Name: activity, dtype: int64"
      ]
     },
     "execution_count": 31,
     "metadata": {},
     "output_type": "execute_result"
    }
   ],
   "source": [
    "df['activity'].value_counts()"
   ]
  },
  {
   "cell_type": "code",
   "execution_count": 32,
   "metadata": {},
   "outputs": [],
   "source": [
    "df.set_index('activity', inplace=True)"
   ]
  },
  {
   "cell_type": "markdown",
   "metadata": {},
   "source": [
    "## Select Activities for training"
   ]
  },
  {
   "cell_type": "code",
   "execution_count": 33,
   "metadata": {},
   "outputs": [],
   "source": [
    "df = df.loc[['Running', 'Sitting', 'Walking']]\n",
    "# print(df)"
   ]
  },
  {
   "cell_type": "code",
   "execution_count": 34,
   "metadata": {
    "id": "JNa3NRkrPUji"
   },
   "outputs": [
    {
     "name": "stdout",
     "output_type": "stream",
     "text": [
      "3\n"
     ]
    }
   ],
   "source": [
    "labels=len(df.index.value_counts())\n",
    "print(labels)"
   ]
  },
  {
   "cell_type": "code",
   "execution_count": 35,
   "metadata": {
    "colab": {
     "base_uri": "https://localhost:8080/",
     "height": 195
    },
    "id": "E7Cy0i1-T0-_",
    "outputId": "ceaa7a07-9548-47e3-c29e-4627f2c308ea"
   },
   "outputs": [
    {
     "data": {
      "text/html": [
       "<div>\n",
       "<style scoped>\n",
       "    .dataframe tbody tr th:only-of-type {\n",
       "        vertical-align: middle;\n",
       "    }\n",
       "\n",
       "    .dataframe tbody tr th {\n",
       "        vertical-align: top;\n",
       "    }\n",
       "\n",
       "    .dataframe thead th {\n",
       "        text-align: right;\n",
       "    }\n",
       "</style>\n",
       "<table border=\"1\" class=\"dataframe\">\n",
       "  <thead>\n",
       "    <tr style=\"text-align: right;\">\n",
       "      <th></th>\n",
       "      <th>x</th>\n",
       "      <th>y</th>\n",
       "      <th>z</th>\n",
       "      <th>label</th>\n",
       "    </tr>\n",
       "    <tr>\n",
       "      <th>activity</th>\n",
       "      <th></th>\n",
       "      <th></th>\n",
       "      <th></th>\n",
       "      <th></th>\n",
       "    </tr>\n",
       "  </thead>\n",
       "  <tbody>\n",
       "    <tr>\n",
       "      <th>Running</th>\n",
       "      <td>0.398438</td>\n",
       "      <td>0.281250</td>\n",
       "      <td>0.375000</td>\n",
       "      <td>0</td>\n",
       "    </tr>\n",
       "    <tr>\n",
       "      <th>Running</th>\n",
       "      <td>-0.789062</td>\n",
       "      <td>0.000000</td>\n",
       "      <td>-0.890625</td>\n",
       "      <td>0</td>\n",
       "    </tr>\n",
       "    <tr>\n",
       "      <th>Running</th>\n",
       "      <td>0.125000</td>\n",
       "      <td>0.820312</td>\n",
       "      <td>0.750000</td>\n",
       "      <td>0</td>\n",
       "    </tr>\n",
       "    <tr>\n",
       "      <th>Running</th>\n",
       "      <td>0.109375</td>\n",
       "      <td>-0.351562</td>\n",
       "      <td>-0.835938</td>\n",
       "      <td>0</td>\n",
       "    </tr>\n",
       "    <tr>\n",
       "      <th>Running</th>\n",
       "      <td>0.351562</td>\n",
       "      <td>0.843750</td>\n",
       "      <td>0.281250</td>\n",
       "      <td>0</td>\n",
       "    </tr>\n",
       "  </tbody>\n",
       "</table>\n",
       "</div>"
      ],
      "text/plain": [
       "                 x         y         z  label\n",
       "activity                                     \n",
       "Running   0.398438  0.281250  0.375000      0\n",
       "Running  -0.789062  0.000000 -0.890625      0\n",
       "Running   0.125000  0.820312  0.750000      0\n",
       "Running   0.109375 -0.351562 -0.835938      0\n",
       "Running   0.351562  0.843750  0.281250      0"
      ]
     },
     "execution_count": 35,
     "metadata": {},
     "output_type": "execute_result"
    }
   ],
   "source": [
    "#pd.set_option('display.max_colwidth', 100)\n",
    "\n",
    "label = LabelEncoder()\n",
    "\n",
    "df['label'] = label.fit_transform(df.index)\n",
    "df.head()"
   ]
  },
  {
   "cell_type": "code",
   "execution_count": 36,
   "metadata": {
    "colab": {
     "base_uri": "https://localhost:8080/"
    },
    "id": "AL30etPqUmiX",
    "outputId": "14afb2fe-e807-4213-c391-ecc1f31255f7"
   },
   "outputs": [
    {
     "data": {
      "text/plain": [
       "array(['Running', 'Sitting', 'Walking'], dtype=object)"
      ]
     },
     "execution_count": 36,
     "metadata": {},
     "output_type": "execute_result"
    }
   ],
   "source": [
    "label.classes_"
   ]
  },
  {
   "cell_type": "markdown",
   "metadata": {
    "id": "Lt1PUkvcCwA5"
   },
   "source": [
    "## Standardized data "
   ]
  },
  {
   "cell_type": "code",
   "execution_count": 37,
   "metadata": {
    "colab": {
     "base_uri": "https://localhost:8080/"
    },
    "id": "UvrOSzBMCwA5",
    "outputId": "0f43e833-2ae4-46b0-d69c-fc5cb2a24c99"
   },
   "outputs": [],
   "source": [
    "# X = df[['x', 'y', 'z']]\n",
    "# y = df['label']\n",
    "# print(X, y)"
   ]
  },
  {
   "cell_type": "code",
   "execution_count": 38,
   "metadata": {},
   "outputs": [],
   "source": [
    "# unscaled_X = pd.DataFrame(data = X, columns = ['x', 'y', 'z'])\n",
    "# unscaled_X['label'] = y.values"
   ]
  },
  {
   "cell_type": "code",
   "execution_count": 39,
   "metadata": {
    "colab": {
     "base_uri": "https://localhost:8080/",
     "height": 402
    },
    "id": "F0y6T57gCwA6",
    "outputId": "9db185ee-ace4-4577-cc7a-880c88e5d867"
   },
   "outputs": [],
   "source": [
    "# Standardize and normalize data from -1 to 1\n",
    "# scaler1 = StandardScaler()\n",
    "# X = scaler1.fit_transform(X)\n",
    "\n",
    "# scaler2 = preprocessing.MinMaxScaler()\n",
    "# X = scaler2.fit_transform(X)\n",
    "\n",
    "# scaled_X = pd.DataFrame(data = X, columns = ['x', 'y', 'z'])\n",
    "# scaled_X['label'] = y.values\n",
    "# scaled_X"
   ]
  },
  {
   "cell_type": "markdown",
   "metadata": {
    "id": "cofvrIcWdsVY"
   },
   "source": [
    "## Balance Model Classes using Class Weights in Keras model"
   ]
  },
  {
   "cell_type": "code",
   "execution_count": 40,
   "metadata": {
    "id": "R0Ut5RoIfeMU"
   },
   "outputs": [],
   "source": [
    "# unique, counts = np.unique(y, return_counts=True)\n",
    "# dict(zip(unique, counts))"
   ]
  },
  {
   "cell_type": "code",
   "execution_count": 41,
   "metadata": {
    "id": "NpiBFmVbfjsH"
   },
   "outputs": [],
   "source": [
    "# from sklearn.utils import class_weight\n",
    "\n",
    "# class_weights = class_weight.compute_class_weight('balanced',\n",
    "#                                                 np.unique(y),\n",
    "#                                                 y)"
   ]
  },
  {
   "cell_type": "code",
   "execution_count": 42,
   "metadata": {
    "id": "U2_WsZnceLZE"
   },
   "outputs": [],
   "source": [
    "# class_weights = dict(enumerate(class_weights))\n",
    "# print(class_weights)"
   ]
  },
  {
   "cell_type": "markdown",
   "metadata": {
    "id": "twotdA2zCwA7"
   },
   "source": [
    "## Frame Preparation "
   ]
  },
  {
   "cell_type": "code",
   "execution_count": 43,
   "metadata": {
    "id": "QfaN_EPqCwA7"
   },
   "outputs": [],
   "source": [
    "import scipy.stats as stats"
   ]
  },
  {
   "cell_type": "code",
   "execution_count": 44,
   "metadata": {
    "id": "Kzo7TGJ3CwA8"
   },
   "outputs": [],
   "source": [
    "frame_size = 120\n",
    "hop_size = frame_size*1 # Subsetting into frames (As per frequency)"
   ]
  },
  {
   "cell_type": "code",
   "execution_count": 45,
   "metadata": {
    "id": "MaECNtrcCwA8"
   },
   "outputs": [],
   "source": [
    "def get_frames(df, frame_size, hop_size):\n",
    "\n",
    "    N_FEATURES = 3\n",
    "\n",
    "    frames = []\n",
    "    labels = []\n",
    "    for i in range(0, len(df) - frame_size, hop_size):\n",
    "        x = df['x'].values[i: i + frame_size]\n",
    "        y = df['y'].values[i: i + frame_size]\n",
    "        z = df['z'].values[i: i + frame_size]\n",
    "        \n",
    "        # Retrieve the most often used label in this segment\n",
    "        label = stats.mode(df['label'][i: i + frame_size])[0][0]\n",
    "        frames.append([x, y, z])\n",
    "        labels.append(label)\n",
    "\n",
    "    # Bring the segments into a better shape\n",
    "    frames = np.asarray(frames).reshape(-1, frame_size, N_FEATURES)\n",
    "    labels = np.asarray(labels)\n",
    "\n",
    "    return frames, labels"
   ]
  },
  {
   "cell_type": "code",
   "execution_count": 46,
   "metadata": {
    "id": "ONpcG_hpCwA9"
   },
   "outputs": [],
   "source": [
    "X, y = get_frames(df, frame_size, hop_size)"
   ]
  },
  {
   "cell_type": "code",
   "execution_count": 47,
   "metadata": {
    "colab": {
     "base_uri": "https://localhost:8080/"
    },
    "id": "0_ZgQNO0CwA9",
    "outputId": "f2967075-6e36-404e-a71d-50da26e6a5fa"
   },
   "outputs": [
    {
     "data": {
      "text/plain": [
       "((1492, 120, 3), (1492,))"
      ]
     },
     "execution_count": 47,
     "metadata": {},
     "output_type": "execute_result"
    }
   ],
   "source": [
    "X.shape, y.shape"
   ]
  },
  {
   "cell_type": "code",
   "execution_count": 48,
   "metadata": {
    "id": "9W4-L8ltpg4P"
   },
   "outputs": [],
   "source": [
    "X_train, X_test, y_train, y_test = train_test_split(X, y, test_size = 0.4, random_state = 42, stratify = y)"
   ]
  },
  {
   "cell_type": "code",
   "execution_count": 49,
   "metadata": {},
   "outputs": [
    {
     "name": "stdout",
     "output_type": "stream",
     "text": [
      "[2 2 0 0 1 2 2 1 0 1 0 0 1 1 1 1 1 2 0 0 2 0 1 1 0 1 2 2 1 0 0 1 1 1 2 2 0\n",
      " 1 1 2 0 0 1 2 1 2 0 1 0 2 0 1 0 0 1 2 0 2 1 0 0 2 0 2 2 2 2 1 0 2 1 0 1 1\n",
      " 2 0 0 0 0 0 2 0 1 0 1 0 0 0 0 2 2 2 1 1 1 0 2 2 0 0 2 0 1 1 1 2 1 0 0 0 1\n",
      " 0 0 0 0 1 2 1 1 1 1 0 1 1 2 2 1 0 2 1 1 0 2 1 2 1 2 0 1 0 1 1 2 1 0 1 1 1\n",
      " 2 2 2 1 0 0 0 2 0 2 2 1 1 1 1 2 2 1 0 2 0 2 2 2 1 2 2 2 2 0 1 2 1 1 1 0 2\n",
      " 0 2 0 0 0 2 1 0 0 0 1 0 2 1 2 1 1 2 2 0 1 1 0 2 1 2 2 1 0 1 2 2 0 0 1 1 2\n",
      " 1 0 0 0 0 0 0 2 2 0 2 1 2 1 1 1 1 0 1 2 2 0 1 0 0 0 1 2 1 2 0 2 1 1 1 0 1\n",
      " 1 0 2 0 0 2 2 2 1 1 0 2 1 2 2 2 0 0 0 1 2 1 0 1 1 0 2 2 0 1 2 0 2 1 2 0 0\n",
      " 2 1 1 2 2 2 0 0 2 0 0 2 2 2 1 2 0 0 1 1 0 2 1 0 1 0 1 2 2 0 0 0 0 1 2 0 2\n",
      " 2 0 0 0 2 2 1 0 2 1 2 0 2 2 1 2 0 1 1 2 2 1 1 1 1 1 1 2 1 0 2 0 2 2 0 0 0\n",
      " 2 0 0 1 1 1 0 2 1 0 2 2 2 1 1 2 1 0 2 0 2 0 0 2 1 0 2 0 2 2 0 2 1 2 2 1 2\n",
      " 2 0 1 1 2 2 1 0 1 1 1 1 1 2 0 1 0 0 0 0 1 2 2 2 2 0 0 1 0 0 0 0 1 2 2 2 2\n",
      " 2 1 2 0 0 1 2 0 1 0 0 1 0 0 0 1 2 2 2 0 0 2 1 0 2 1 0 0 1 2 2 1 2 0 1 1 0\n",
      " 1 0 1 0 2 2 0 1 1 1 2 0 0 1 2 2 1 1 0 2 2 0 0 1 0 2 0 0 2 1 2 1 0 0 0 0 1\n",
      " 1 2 1 1 2 1 2 2 1 2 0 1 2 2 0 1 2 2 2 0 0 1 1 1 0 0 0 0 1 0 0 0 0 0 2 2 0\n",
      " 2 2 2 2 1 0 0 1 1 0 2 2 1 0 1 2 1 1 2 0 0 2 2 1 0 1 2 0 0 2 0 2 2 1 1 1 2\n",
      " 2 0 1 0 1 1 1 2 0 2 2 0 1 2 2 0 0 2 2 0 1 1 1 2 1 0 2 2 1 1 2 2 0 0 0 0 0\n",
      " 2 1 2 2 2 2 1 1 1 1 1 0 0 2 2 1 1 0 0 0 1 0 2 1 0 1 2 2 0 2 0 1 0 0 2 0 1\n",
      " 1 1 2 2 1 1 2 1 1 2 1 1 0 1 0 0 0 2 0 1 2 0 1 1 0 2 0 1 2 1 2 2 1 2 1 0 2\n",
      " 0 0 2 1 2 0 1 2 2 1 1 1 2 2 2 1 0 0 1 0 2 0 0 2 2 1 2 2 0 2 2 0 1 2 0 1 2\n",
      " 1 0 1 2 0 2 1 0 0 2 1 0 1 0 1 2 2 1 2 0 2 1 2 1 2 0 2 1 1 1 0 0 2 0 2 0 0\n",
      " 2 2 1 1 1 2 0 0 1 2 2 0 0 2 1 2 0 1 2 0 2 0 1 1 2 0 1 1 2 1 1 2 1 2 0 0 0\n",
      " 0 2 1 1 2 2 2 1 0 2 0 0 1 2 1 1 2 1 2 0 0 1 2 1 0 1 0 2 1 1 1 1 0 1 0 2 1\n",
      " 0 2 2 0 1 1 0 2 2 2 2 1 0 0 2 2 0 1 1 0 2 1 1 0 1 1 0 0 2 1 1 1 1 1 0 1 0\n",
      " 0 2 0 0 2 0 2] [0 2 2 0 2 2 0 1 1 1 2 2 0 2 1 0 1 1 2 0 0 1 0 0 2 2 2 1 2 0 1 2 1 0 1 0 1\n",
      " 0 1 0 2 2 2 0 1 0 2 1 2 1 1 2 0 0 1 2 2 1 1 2 0 2 1 2 2 1 0 0 2 2 2 1 0 0\n",
      " 1 2 1 2 2 2 2 0 0 1 0 0 1 1 2 1 0 0 1 0 1 1 1 2 1 1 1 0 1 0 1 1 0 2 0 2 2\n",
      " 0 1 1 2 1 2 0 0 2 0 0 1 0 2 2 0 1 2 1 0 2 2 1 2 2 2 0 2 1 2 1 0 0 0 0 0 2\n",
      " 1 2 0 1 1 1 1 1 2 1 0 2 1 1 0 0 1 2 0 0 0 0 2 0 0 0 2 2 2 0 1 1 1 0 1 2 2\n",
      " 0 2 1 1 0 0 1 1 1 0 0 1 2 2 0 0 0 0 1 1 1 0 1 0 2 0 2 2 1 0 2 0 1 2 0 1 2\n",
      " 0 1 0 2 2 2 1 2 2 2 1 2 1 0 0 2 0 0 1 2 1 1 0 1 2 2 1 1 1 2 0 0 1 2 1 0 2\n",
      " 2 1 1 0 2 0 2 1 1 0 1 2 2 0 1 1 0 0 0 0 1 2 0 0 1 1 2 2 0 1 2 1 2 0 1 2 2\n",
      " 0 0 0 2 2 1 2 1 0 1 0 0 0 0 2 0 0 0 0 1 0 0 2 0 1 1 2 1 1 1 0 1 0 0 1 2 1\n",
      " 1 0 0 2 1 0 1 1 0 2 1 0 2 1 0 0 2 0 1 0 2 1 0 2 1 1 0 2 1 1 2 0 1 2 1 1 2\n",
      " 2 1 1 1 0 2 2 2 1 1 2 0 1 1 0 2 0 1 2 1 0 2 1 2 0 1 1 1 1 0 0 0 1 2 1 1 2\n",
      " 1 0 0 1 1 2 0 1 1 2 2 2 2 0 0 2 0 2 0 1 2 2 2 1 0 2 0 2 2 0 2 1 1 2 2 2 1\n",
      " 1 2 1 1 1 1 1 1 2 2 1 2 0 0 0 0 2 2 0 2 1 0 0 0 0 0 1 2 0 0 2 2 2 2 1 1 1\n",
      " 0 1 0 0 0 0 1 2 2 1 1 2 0 1 0 2 2 2 0 2 2 1 0 2 2 1 2 1 0 0 1 2 2 1 2 1 0\n",
      " 2 2 2 0 2 2 2 0 1 2 0 2 1 1 1 0 1 2 0 1 2 0 0 1 0 0 0 2 2 0 2 1 1 2 2 1 2\n",
      " 0 2 1 0 1 2 2 2 0 0 0 0 0 2 1 2 0 0 2 2 1 1 1 0 0 0 1 1 2 1 1 2 0 2 2 2 0\n",
      " 2 0 0 0 2]\n"
     ]
    }
   ],
   "source": [
    "print(y_train, y_test)"
   ]
  },
  {
   "cell_type": "markdown",
   "metadata": {},
   "source": [
    "## Changing Y Train and Y test to one hot (categorical)"
   ]
  },
  {
   "cell_type": "code",
   "execution_count": 50,
   "metadata": {},
   "outputs": [
    {
     "name": "stdout",
     "output_type": "stream",
     "text": [
      "[[0. 0. 1.]\n",
      " [0. 0. 1.]\n",
      " [1. 0. 0.]\n",
      " ...\n",
      " [0. 0. 1.]\n",
      " [1. 0. 0.]\n",
      " [0. 0. 1.]]\n",
      "[[1. 0. 0.]\n",
      " [0. 0. 1.]\n",
      " [0. 0. 1.]\n",
      " ...\n",
      " [1. 0. 0.]\n",
      " [1. 0. 0.]\n",
      " [0. 0. 1.]]\n"
     ]
    }
   ],
   "source": [
    "from keras.utils import to_categorical\n",
    "y_train = to_categorical(y_train, num_classes=labels)\n",
    "print(y_train)\n",
    "y_test = to_categorical(y_test, num_classes=labels)\n",
    "print(y_test)"
   ]
  },
  {
   "cell_type": "markdown",
   "metadata": {
    "id": "bLrjUPWb7USy"
   },
   "source": [
    "### Oversampling"
   ]
  },
  {
   "cell_type": "code",
   "execution_count": 51,
   "metadata": {
    "id": "VrNfklBny2Rz"
   },
   "outputs": [],
   "source": [
    "# p=X_train.shape[1]\n",
    "# q=X_train.shape[2]"
   ]
  },
  {
   "cell_type": "code",
   "execution_count": 52,
   "metadata": {
    "colab": {
     "base_uri": "https://localhost:8080/"
    },
    "id": "AHFmcfsYwJuC",
    "outputId": "3c770acd-49ab-40b3-f5c5-a65e5703fefd"
   },
   "outputs": [],
   "source": [
    "# X_train = X_train.reshape(X_train.shape[0], -1)\n",
    "# print(X_train.shape, y_train.shape)"
   ]
  },
  {
   "cell_type": "code",
   "execution_count": 53,
   "metadata": {
    "colab": {
     "base_uri": "https://localhost:8080/"
    },
    "id": "QBE727ZAb2-8",
    "outputId": "990dce35-bbc5-45e6-93b8-0cb57621eeff"
   },
   "outputs": [],
   "source": [
    "# # define oversampling strategy\n",
    "# from imblearn.over_sampling import RandomOverSampler\n",
    "# oversample = RandomOverSampler()\n",
    "# # fit and apply the transform\n",
    "# X_train, y_train = oversample.fit_resample(X_train, y_train)"
   ]
  },
  {
   "cell_type": "code",
   "execution_count": 54,
   "metadata": {
    "colab": {
     "base_uri": "https://localhost:8080/"
    },
    "id": "0x9i8EML10Ek",
    "outputId": "4b4d3cd9-e0d6-4df5-be29-c53a03e8ebfa"
   },
   "outputs": [],
   "source": [
    "# from collections import Counter\n",
    "# print(Counter(y_train))"
   ]
  },
  {
   "cell_type": "code",
   "execution_count": 55,
   "metadata": {
    "id": "yVbbb9H1wUMU"
   },
   "outputs": [],
   "source": [
    "# X_train = X_train.reshape(-1, p, q)"
   ]
  },
  {
   "cell_type": "markdown",
   "metadata": {
    "id": "sBbSluYQ7naC"
   },
   "source": [
    "## Resize for Model input"
   ]
  },
  {
   "cell_type": "code",
   "execution_count": 56,
   "metadata": {
    "colab": {
     "base_uri": "https://localhost:8080/"
    },
    "id": "a4nCmx56CwBB",
    "outputId": "4f968b90-06af-45eb-a0cb-49600735473c"
   },
   "outputs": [
    {
     "data": {
      "text/plain": [
       "((895, 120, 3), (597, 120, 3))"
      ]
     },
     "execution_count": 56,
     "metadata": {},
     "output_type": "execute_result"
    }
   ],
   "source": [
    "X_train.shape, X_test.shape"
   ]
  },
  {
   "cell_type": "code",
   "execution_count": 57,
   "metadata": {
    "colab": {
     "base_uri": "https://localhost:8080/"
    },
    "id": "NYeeDjawCwBB",
    "outputId": "258b339a-db0c-4b15-a4a6-fe5cee0a51b2"
   },
   "outputs": [
    {
     "data": {
      "text/plain": [
       "((120, 3), (120, 3))"
      ]
     },
     "execution_count": 57,
     "metadata": {},
     "output_type": "execute_result"
    }
   ],
   "source": [
    "X_train[0].shape, X_test[0].shape"
   ]
  },
  {
   "cell_type": "code",
   "execution_count": 58,
   "metadata": {
    "colab": {
     "base_uri": "https://localhost:8080/"
    },
    "id": "bfk6MIX3QyUt",
    "outputId": "722efffc-5c50-4511-f754-ee8bbb8332d8"
   },
   "outputs": [
    {
     "name": "stdout",
     "output_type": "stream",
     "text": [
      "(895, 120, 3, 1) (597, 120, 3, 1)\n"
     ]
    }
   ],
   "source": [
    "a=X_train.shape\n",
    "a = a + (1,)\n",
    "b=X_test.shape\n",
    "b = b + (1,)\n",
    "print(a,b)"
   ]
  },
  {
   "cell_type": "code",
   "execution_count": 59,
   "metadata": {
    "id": "jCOdjSsvCwBC"
   },
   "outputs": [],
   "source": [
    "X_train = X_train.reshape(a)\n",
    "X_test = X_test.reshape(b)"
   ]
  },
  {
   "cell_type": "code",
   "execution_count": 60,
   "metadata": {
    "colab": {
     "base_uri": "https://localhost:8080/"
    },
    "id": "gJJAK98UCwBC",
    "outputId": "7196b8bf-129e-4ffc-d240-76e388bfd89b"
   },
   "outputs": [
    {
     "data": {
      "text/plain": [
       "((120, 3, 1), (120, 3, 1))"
      ]
     },
     "execution_count": 60,
     "metadata": {},
     "output_type": "execute_result"
    }
   ],
   "source": [
    "X_train[0].shape, X_test[0].shape"
   ]
  },
  {
   "cell_type": "markdown",
   "metadata": {
    "id": "ytZGoSaxCwBD"
   },
   "source": [
    "## 2D CNN Model "
   ]
  },
  {
   "cell_type": "code",
   "execution_count": 61,
   "metadata": {
    "colab": {
     "base_uri": "https://localhost:8080/"
    },
    "id": "aLcb0WqECwBD",
    "outputId": "9d14bdc8-b1e4-4bb4-fc8e-cf24a35065a0",
    "scrolled": true
   },
   "outputs": [
    {
     "name": "stdout",
     "output_type": "stream",
     "text": [
      "Model: \"sequential\"\n",
      "_________________________________________________________________\n",
      "Layer (type)                 Output Shape              Param #   \n",
      "=================================================================\n",
      "conv2d (Conv2D)              (None, 119, 2, 32)        160       \n",
      "_________________________________________________________________\n",
      "dropout (Dropout)            (None, 119, 2, 32)        0         \n",
      "_________________________________________________________________\n",
      "conv2d_1 (Conv2D)            (None, 119, 2, 32)        4128      \n",
      "_________________________________________________________________\n",
      "dropout_1 (Dropout)          (None, 119, 2, 32)        0         \n",
      "_________________________________________________________________\n",
      "conv2d_2 (Conv2D)            (None, 119, 2, 32)        4128      \n",
      "_________________________________________________________________\n",
      "dropout_2 (Dropout)          (None, 119, 2, 32)        0         \n",
      "_________________________________________________________________\n",
      "flatten (Flatten)            (None, 7616)              0         \n",
      "_________________________________________________________________\n",
      "dense (Dense)                (None, 64)                487488    \n",
      "_________________________________________________________________\n",
      "dropout_3 (Dropout)          (None, 64)                0         \n",
      "_________________________________________________________________\n",
      "dense_1 (Dense)              (None, 3)                 195       \n",
      "=================================================================\n",
      "Total params: 496,099\n",
      "Trainable params: 496,099\n",
      "Non-trainable params: 0\n",
      "_________________________________________________________________\n",
      "None\n"
     ]
    }
   ],
   "source": [
    "from keras.regularizers import l2\n",
    "\n",
    "model = tf.keras.Sequential()\n",
    "model.add(Conv2D(32, (2, 2), activation = 'relu', input_shape = X_train[0].shape))\n",
    "#model.add(BatchNormalization())\n",
    "model.add(Dropout(0.1))\n",
    "\n",
    "model.add(Conv2D(32, (2, 2), activation='relu', padding='same'))\n",
    "#model.add(BatchNormalization())\n",
    "model.add(Dropout(0.2))\n",
    "\n",
    "model.add(Conv2D(32, (2, 2), activation='relu', padding='same'))\n",
    "#model.add(BatchNormalization())\n",
    "model.add(Dropout(0.4))\n",
    "\n",
    "model.add(Flatten())\n",
    "\n",
    "model.add(Dense(64, activation = 'relu'))\n",
    "model.add(Dropout(0.4))\n",
    "\n",
    "model.add(Dense(labels, activation='softmax'))\n",
    "\n",
    "model.compile(optimizer=Adam(learning_rate = 0.0009), loss = 'categorical_crossentropy', metrics = ['accuracy'])\n",
    "\n",
    "print(model.summary())"
   ]
  },
  {
   "cell_type": "code",
   "execution_count": 62,
   "metadata": {
    "colab": {
     "base_uri": "https://localhost:8080/"
    },
    "id": "NM1m8ydRCwBE",
    "outputId": "f8853417-e46e-447e-f20c-032f6e10c43c",
    "scrolled": true
   },
   "outputs": [
    {
     "name": "stdout",
     "output_type": "stream",
     "text": [
      "Epoch 1/20\n",
      "14/14 [==============================] - 3s 165ms/step - loss: 0.9144 - accuracy: 0.5326 - val_loss: 0.3275 - val_accuracy: 0.8978\n",
      "Epoch 2/20\n",
      "14/14 [==============================] - 1s 63ms/step - loss: 0.3637 - accuracy: 0.8892 - val_loss: 0.3358 - val_accuracy: 0.8827\n",
      "Epoch 3/20\n",
      "14/14 [==============================] - 1s 63ms/step - loss: 0.3288 - accuracy: 0.8975 - val_loss: 0.2597 - val_accuracy: 0.9028\n",
      "Epoch 4/20\n",
      "14/14 [==============================] - 1s 62ms/step - loss: 0.2006 - accuracy: 0.9315 - val_loss: 0.2145 - val_accuracy: 0.9280\n",
      "Epoch 5/20\n",
      "14/14 [==============================] - 1s 64ms/step - loss: 0.1917 - accuracy: 0.9265 - val_loss: 0.1863 - val_accuracy: 0.9481\n",
      "Epoch 6/20\n",
      "14/14 [==============================] - 1s 63ms/step - loss: 0.1517 - accuracy: 0.9547 - val_loss: 0.1817 - val_accuracy: 0.9296\n",
      "Epoch 7/20\n",
      "14/14 [==============================] - 1s 68ms/step - loss: 0.1199 - accuracy: 0.9695 - val_loss: 0.1647 - val_accuracy: 0.9447\n",
      "Epoch 8/20\n",
      "14/14 [==============================] - 1s 70ms/step - loss: 0.0941 - accuracy: 0.9716 - val_loss: 0.1686 - val_accuracy: 0.9414\n",
      "Epoch 9/20\n",
      "14/14 [==============================] - 1s 69ms/step - loss: 0.0821 - accuracy: 0.9753 - val_loss: 0.1632 - val_accuracy: 0.9430\n",
      "Epoch 10/20\n",
      "14/14 [==============================] - 1s 78ms/step - loss: 0.0479 - accuracy: 0.9928 - val_loss: 0.2066 - val_accuracy: 0.9380\n",
      "Epoch 11/20\n",
      "14/14 [==============================] - 1s 66ms/step - loss: 0.0577 - accuracy: 0.9808 - val_loss: 0.1713 - val_accuracy: 0.9447\n",
      "Epoch 12/20\n",
      "14/14 [==============================] - 1s 73ms/step - loss: 0.0471 - accuracy: 0.9909 - val_loss: 0.1764 - val_accuracy: 0.9397\n",
      "Epoch 13/20\n",
      "14/14 [==============================] - 1s 66ms/step - loss: 0.0562 - accuracy: 0.9792 - val_loss: 0.1752 - val_accuracy: 0.9464\n",
      "Epoch 14/20\n",
      "14/14 [==============================] - 1s 68ms/step - loss: 0.0267 - accuracy: 0.9965 - val_loss: 0.2074 - val_accuracy: 0.9447\n",
      "Epoch 15/20\n",
      "14/14 [==============================] - 1s 72ms/step - loss: 0.0258 - accuracy: 0.9967 - val_loss: 0.2126 - val_accuracy: 0.9430\n",
      "Epoch 16/20\n",
      "14/14 [==============================] - 1s 66ms/step - loss: 0.0522 - accuracy: 0.9885 - val_loss: 0.1828 - val_accuracy: 0.9564\n",
      "Epoch 17/20\n",
      "14/14 [==============================] - 1s 48ms/step - loss: 0.0358 - accuracy: 0.9953 - val_loss: 0.1860 - val_accuracy: 0.9548\n",
      "Epoch 18/20\n",
      "14/14 [==============================] - 1s 55ms/step - loss: 0.0363 - accuracy: 0.9872 - val_loss: 0.1962 - val_accuracy: 0.9497\n",
      "Epoch 19/20\n",
      "14/14 [==============================] - 1s 69ms/step - loss: 0.0343 - accuracy: 0.9900 - val_loss: 0.1825 - val_accuracy: 0.9548\n",
      "Epoch 20/20\n",
      "14/14 [==============================] - 1s 68ms/step - loss: 0.0196 - accuracy: 0.9926 - val_loss: 0.2553 - val_accuracy: 0.9430\n"
     ]
    }
   ],
   "source": [
    "callback = tf.keras.callbacks.EarlyStopping(monitor='loss', patience=10)\n",
    "\n",
    "epoch=20\n",
    "history = model.fit(X_train, y_train, batch_size=64, callbacks=[callback], epochs = epoch, validation_data= (X_test, y_test), verbose=1)\n",
    "\n",
    "#param shuffle = \"TRUE\""
   ]
  },
  {
   "cell_type": "code",
   "execution_count": 63,
   "metadata": {
    "id": "Eaoi8wwpCwBF"
   },
   "outputs": [],
   "source": [
    "def plot_learningCurve(history, epochs):\n",
    "  # Plot training & validation accuracy values\n",
    "  epoch_range = range(1, epochs+1)\n",
    "  plt.plot(epoch_range, history.history['accuracy'])\n",
    "  plt.plot(epoch_range, history.history['val_accuracy'])\n",
    "  plt.title('Model accuracy')\n",
    "  plt.ylabel('Accuracy')\n",
    "  plt.xlabel('Epoch')\n",
    "  plt.legend(['Train', 'Val'], loc='upper left')\n",
    "  plt.show()\n",
    "\n",
    "  # Plot training & validation loss values\n",
    "  plt.plot(epoch_range, history.history['loss'])\n",
    "  plt.plot(epoch_range, history.history['val_loss'])\n",
    "  plt.title('Model loss')\n",
    "  plt.ylabel('Loss')\n",
    "  plt.xlabel('Epoch')\n",
    "  plt.legend(['Train', 'Val'], loc='upper left')\n",
    "  plt.show()"
   ]
  },
  {
   "cell_type": "code",
   "execution_count": 64,
   "metadata": {
    "colab": {
     "base_uri": "https://localhost:8080/",
     "height": 573
    },
    "id": "ECVHIoAtCwBF",
    "outputId": "e6f31def-0726-4f6d-950a-927a8e36f72f"
   },
   "outputs": [
    {
     "data": {
      "image/png": "[encoded data removed]",
      "text/plain": [
       "<Figure size 432x288 with 1 Axes>"
      ]
     },
     "metadata": {
      "needs_background": "light"
     },
     "output_type": "display_data"
    },
    {
     "data": {
      "image/png": "[encoded data removed]",
      "text/plain": [
       "<Figure size 432x288 with 1 Axes>"
      ]
     },
     "metadata": {
      "needs_background": "light"
     },
     "output_type": "display_data"
    }
   ],
   "source": [
    "epoch=len(history.history['loss'])\n",
    "plot_learningCurve(history, epoch)"
   ]
  },
  {
   "cell_type": "code",
   "execution_count": 65,
   "metadata": {},
   "outputs": [
    {
     "name": "stdout",
     "output_type": "stream",
     "text": [
      "19/19 [==============================] - 0s 5ms/step - loss: 0.2553 - accuracy: 0.9430\n"
     ]
    },
    {
     "data": {
      "text/plain": [
       "[0.2552911043167114, 0.9430485963821411]"
      ]
     },
     "execution_count": 65,
     "metadata": {},
     "output_type": "execute_result"
    }
   ],
   "source": [
    "model.evaluate(X_test, y_test)"
   ]
  },
  {
   "cell_type": "markdown",
   "metadata": {
    "id": "jN4Khu3LCwBG"
   },
   "source": [
    "# Confusion Matrix and F1-score"
   ]
  },
  {
   "cell_type": "code",
   "execution_count": 66,
   "metadata": {
    "id": "dMcZdCWYCwBM"
   },
   "outputs": [],
   "source": [
    "from mlxtend.plotting import plot_confusion_matrix\n",
    "from sklearn.metrics import confusion_matrix"
   ]
  },
  {
   "cell_type": "code",
   "execution_count": 67,
   "metadata": {
    "colab": {
     "base_uri": "https://localhost:8080/"
    },
    "id": "zw0P7W4OCwBM",
    "outputId": "3ac4cc5c-2fb6-4026-dc92-941ae46873e3"
   },
   "outputs": [
    {
     "name": "stderr",
     "output_type": "stream",
     "text": [
      "C:\\Users\\Gaurav\\AppData\\Roaming\\Python\\Python38\\site-packages\\tensorflow\\python\\keras\\engine\\sequential.py:450: UserWarning: `model.predict_classes()` is deprecated and will be removed after 2021-01-01. Please use instead:* `np.argmax(model.predict(x), axis=-1)`,   if your model does multi-class classification   (e.g. if it uses a `softmax` last-layer activation).* `(model.predict(x) > 0.5).astype(\"int32\")`,   if your model does binary classification   (e.g. if it uses a `sigmoid` last-layer activation).\n",
      "  warnings.warn('`model.predict_classes()` is deprecated and '\n"
     ]
    },
    {
     "data": {
      "text/plain": [
       "Counter({0: 214, 2: 189, 1: 194})"
      ]
     },
     "execution_count": 67,
     "metadata": {},
     "output_type": "execute_result"
    }
   ],
   "source": [
    "y_pred = model.predict_classes(X_test)\n",
    "import collections\n",
    "collections.Counter(y_pred)"
   ]
  },
  {
   "cell_type": "code",
   "execution_count": 68,
   "metadata": {
    "colab": {
     "base_uri": "https://localhost:8080/",
     "height": 493
    },
    "id": "QkgSMdcZq02f",
    "outputId": "6ef163a0-d84c-4dcb-f951-80eb5dc38afd"
   },
   "outputs": [
    {
     "name": "stdout",
     "output_type": "stream",
     "text": [
      "['Running' 'Sitting' 'Walking']\n"
     ]
    },
    {
     "data": {
      "text/plain": [
       "(<Figure size 720x720 with 1 Axes>,\n",
       " <AxesSubplot:xlabel='predicted label', ylabel='true label'>)"
      ]
     },
     "execution_count": 68,
     "metadata": {},
     "output_type": "execute_result"
    },
    {
     "data": {
      "image/png": "[encoded data removed]",
      "text/plain": [
       "<Figure size 720x720 with 1 Axes>"
      ]
     },
     "metadata": {
      "needs_background": "light"
     },
     "output_type": "display_data"
    }
   ],
   "source": [
    "print(label.classes_)\n",
    "y_test_round=np.argmax(y_test, axis=1)\n",
    "#print(y_test_round)\n",
    "\n",
    "mat = confusion_matrix(y_test_round, y_pred)\n",
    "plot_confusion_matrix(conf_mat=mat, show_normed=True, figsize=(10,10), class_names=label.classes_)"
   ]
  },
  {
   "cell_type": "code",
   "execution_count": 69,
   "metadata": {
    "colab": {
     "base_uri": "https://localhost:8080/"
    },
    "id": "gea9qjT2Wt7g",
    "outputId": "f2057504-3906-4b76-8aaa-fe1dc59e8c69"
   },
   "outputs": [
    {
     "name": "stdout",
     "output_type": "stream",
     "text": [
      "              precision    recall  f1-score   support\n",
      "\n",
      "     Running       0.89      0.96      0.92       199\n",
      "     Sitting       0.99      0.96      0.98       199\n",
      "     Walking       0.95      0.90      0.93       199\n",
      "\n",
      "    accuracy                           0.94       597\n",
      "   macro avg       0.94      0.94      0.94       597\n",
      "weighted avg       0.94      0.94      0.94       597\n",
      "\n"
     ]
    }
   ],
   "source": [
    "from sklearn.metrics import classification_report\n",
    "#target_names = [\"Class {}\".format(i) for i in range(labels)]\n",
    "print(classification_report(y_test_round, y_pred, target_names=label.classes_))"
   ]
  },
  {
   "cell_type": "markdown",
   "metadata": {
    "id": "Lc5Q6-kBYMsZ"
   },
   "source": [
    "\n",
    "\n",
    "*   The traditional Accuracy is a good measure if you have quite balanced datasets and are interested in all types of outputs equally.\n",
    "\n",
    "*   Precision is great to focus on if you want to minimize false positives. For example, you build a spam email classifier. You want to see as little spam as possible. But you do not want to miss any important, non-spam emails. In such cases, you may wish to aim for maximizing precision.\n",
    "\n",
    "*  Recall is very important in domains such as medical (e.g., identifying cancer), where you really want to minimize the chance of missing positive cases (predicting false negatives). These are typically cases where missing a positive case has a much bigger cost than wrongly classifying something as positive.\n",
    "\n",
    "\n",
    "*  F1-score combines precision and recall, and works also for cases where the datasets are imbalanced as it requires both precision and recall to have a reasonable value, as demonstrated by the experiments I showed in this post. Even if you have a small number of positive cases vs negative cases, the formula will weight the metric value down if the precision or recall of the positive class is low."
   ]
  },
  {
   "cell_type": "markdown",
   "metadata": {
    "id": "6wr3l5HTYjwv"
   },
   "source": [
    "### Saving the Model"
   ]
  },
  {
   "cell_type": "code",
   "execution_count": 70,
   "metadata": {
    "colab": {
     "base_uri": "https://localhost:8080/"
    },
    "id": "bmohNmTWYidj",
    "outputId": "3187d4f8-24c1-4a25-a33e-24ec324e2f63"
   },
   "outputs": [],
   "source": [
    "#model.save('activity_detectv8.model')\n",
    "model.save('activity_detectv9.h5')"
   ]
  },
  {
   "cell_type": "code",
   "execution_count": 71,
   "metadata": {},
   "outputs": [
    {
     "name": "stdout",
     "output_type": "stream",
     "text": [
      "INFO:tensorflow:Assets written to: tf_model\\1\\assets\n",
      "\n",
      "export_path = tf_model\\1\n",
      " Volume in drive C has no label.\n",
      " Volume Serial Number is 9C1F-17A8\n",
      "\n",
      " Directory of C:\\Users\\Gaurav\\Downloads\\Accelerometer\\Testing_Folder\\tf_model\\1\n",
      "\n",
      "28-04-2021  08.42 AM    <DIR>          .\n",
      "28-04-2021  08.42 AM    <DIR>          ..\n",
      "28-04-2021  08.42 AM    <DIR>          assets\n",
      "28-04-2021  08.42 AM           191,953 saved_model.pb\n",
      "28-04-2021  08.42 AM    <DIR>          variables\n",
      "               1 File(s)        191,953 bytes\n",
      "               4 Dir(s)  80,873,897,984 bytes free\n"
     ]
    }
   ],
   "source": [
    "MODEL_DIR='tf_model'\n",
    "version = \"1\"\n",
    "export_path = os.path.join(MODEL_DIR, str(version))\n",
    "#Save the model \n",
    "model.save(export_path, save_format=\"tf\")\n",
    "print('\\nexport_path = {}'.format(export_path))\n",
    "!dir {export_path}"
   ]
  },
  {
   "cell_type": "code",
   "execution_count": 72,
   "metadata": {},
   "outputs": [],
   "source": [
    "# tf.saved_model.save(\n",
    "#     model,\n",
    "#     export_dir=\"tmp/saved-model\",\n",
    "#     signatures=None\n",
    "#     )"
   ]
  },
  {
   "cell_type": "markdown",
   "metadata": {},
   "source": [
    "### No need to run after this point"
   ]
  },
  {
   "cell_type": "code",
   "execution_count": 73,
   "metadata": {},
   "outputs": [
    {
     "ename": "TypeError",
     "evalue": "cannot pickle 'weakref' object",
     "output_type": "error",
     "traceback": [
      "\u001b[1;31m---------------------------------------------------------------------------\u001b[0m",
      "\u001b[1;31mTypeError\u001b[0m                                 Traceback (most recent call last)",
      "\u001b[1;32m<ipython-input-73-876745875775>\u001b[0m in \u001b[0;36m<module>\u001b[1;34m\u001b[0m\n\u001b[0;32m      2\u001b[0m \u001b[0mpkl_filename\u001b[0m \u001b[1;33m=\u001b[0m \u001b[1;34m\"fall_detect_v2.pkl\"\u001b[0m\u001b[1;33m\u001b[0m\u001b[1;33m\u001b[0m\u001b[0m\n\u001b[0;32m      3\u001b[0m \u001b[1;32mwith\u001b[0m \u001b[0mopen\u001b[0m\u001b[1;33m(\u001b[0m\u001b[0mpkl_filename\u001b[0m\u001b[1;33m,\u001b[0m \u001b[1;34m'wb'\u001b[0m\u001b[1;33m)\u001b[0m \u001b[1;32mas\u001b[0m \u001b[0mfile\u001b[0m\u001b[1;33m:\u001b[0m\u001b[1;33m\u001b[0m\u001b[1;33m\u001b[0m\u001b[0m\n\u001b[1;32m----> 4\u001b[1;33m     \u001b[0mpickle\u001b[0m\u001b[1;33m.\u001b[0m\u001b[0mdump\u001b[0m\u001b[1;33m(\u001b[0m\u001b[0mmodel\u001b[0m\u001b[1;33m,\u001b[0m \u001b[0mfile\u001b[0m\u001b[1;33m)\u001b[0m\u001b[1;33m\u001b[0m\u001b[1;33m\u001b[0m\u001b[0m\n\u001b[0m",
      "\u001b[1;31mTypeError\u001b[0m: cannot pickle 'weakref' object"
     ]
    }
   ],
   "source": [
    "import pickle\n",
    "pkl_filename = \"fall_detect_v2.pkl\"\n",
    "with open(pkl_filename, 'wb') as file:\n",
    "    pickle.dump(model, file)"
   ]
  },
  {
   "cell_type": "code",
   "execution_count": null,
   "metadata": {
    "id": "FqwW1xSPCwBN"
   },
   "outputs": [],
   "source": [
    "# Convert the model.\n",
    "#converter = tf.lite.TFLiteConverter.from_keras_model(model)\n",
    "#tflite_model = converter.convert()\n",
    "\n",
    "# Save the model.\n",
    "#with open('model.tflite', 'wb') as f:\n",
    "#  f.write(tflite_model)"
   ]
  },
  {
   "cell_type": "code",
   "execution_count": null,
   "metadata": {
    "colab": {
     "base_uri": "https://localhost:8080/",
     "height": 229
    },
    "id": "nwd6TpVzXPNV",
    "outputId": "ea07be65-d131-4c28-9680-a7b2915eaef9"
   },
   "outputs": [],
   "source": [
    "model_meta = _metadata_fb.ModelMetadataT()\n",
    "model_meta.name = \"Activity Detection\"\n",
    "model_meta.description = (\"Activity Detection using only accelrometer data at 100Hz, 16g scale)\n",
    "model_meta.version = \"v3\"\n",
    "model_meta.author = \"Gaurav Hazra\""
   ]
  },
  {
   "cell_type": "markdown",
   "metadata": {
    "id": "vc_ZXn1o7Dib"
   },
   "source": [
    "### Keras Tuner\n",
    "\n"
   ]
  },
  {
   "cell_type": "code",
   "execution_count": null,
   "metadata": {
    "id": "8CZThhfAsZ98"
   },
   "outputs": [],
   "source": [
    "pip install keras-tuner"
   ]
  },
  {
   "cell_type": "code",
   "execution_count": null,
   "metadata": {
    "id": "bhGbDIFstFaz"
   },
   "outputs": [],
   "source": [
    "def model_builder(hp):\n",
    "  model = keras.Sequential()\n",
    "  model.add(keras.layers.Flatten(input_shape=(100, 3, 1)))\n",
    "\n",
    "  # Tune the number of units in the first Dense layer\n",
    "  # Choose an optimal value between 16-512\n",
    "  \n",
    "  hp_units = hp.Int('units', min_value = 16, max_value = 512, step = 32)\n",
    "  model.add(keras.layers.Dense(units = hp_units, activation = 'relu'))\n",
    "  model.add(keras.layers.Dense(64))\n",
    "\n",
    "  # Tune the learning rate for the optimizer \n",
    "  # Choose an optimal value from 0.01, 0.001, or 0.0001\n",
    "  \n",
    "  hp_learning_rate = hp.Choice('learning_rate', values = [1e-2, 1e-3, 1e-4]) \n",
    "\n",
    "  model.compile(optimizer = keras.optimizers.Adam(learning_rate = hp_learning_rate),\n",
    "                loss = keras.losses.SparseCategoricalCrossentropy(from_logits = True), \n",
    "                metrics = ['accuracy'])\n",
    "\n",
    "  return model\n",
    "\n",
    "##model = tf.keras.Sequential()\n",
    "#model.add(Conv2D(16, (2, 2), activation = 'relu', input_shape = X_train[0].shape))\n",
    "#model.add(Dropout(0.1))\n",
    "\n",
    "#model.add(Conv2D(32, (2, 2), activation='relu'))\n",
    "#model.add(Dropout(0.2))\n",
    "\n",
    "#model.add(Flatten())\n",
    "\n",
    "#model.add(Dense(64, activation = 'relu'))\n",
    "#model.add(Dropout(0.4))\n",
    "\n",
    "#model.add(Dense(labels+1, activation='softmax'))"
   ]
  },
  {
   "cell_type": "code",
   "execution_count": null,
   "metadata": {
    "id": "_SRURiyV3WtN"
   },
   "outputs": [],
   "source": [
    "def model_builder(hp):\n",
    "  model = tf.keras.Sequential()\n",
    "  model.add(Conv2D(filters=hyperparam.Int('convolution_1',min_value=16, max_value=128, step=16), \n",
    "                   kernel_size=hyperparam.Choice('convolution_1', values = [2,6]), activation='relu',input_shape=X_train[0].shape)\n",
    "  model.add(Conv2D(filters=hyperparam.Int('convolution_2', min_value=16, max_value=128, step=16), kernel_size = hyperparam.Choice('convolution_2', values = [2,6]), activation='relu'),\n",
    "  model.add(Dropout(0.2))\n",
    "\n",
    "  model.add(Flatten())\n",
    "\n",
    "  model.add(Dense(64), activation = 'relu'))\n",
    "  model.add(Dropout(0.4))\n",
    "\n",
    "  model.add(Dense(labels+1, activation='softmax'))\n",
    "  model.compile(optimizer=keras.optimizers.Adam(hyperparam.Choice('learning_rate', values=[1e-2, 1e-3, 1e-4])),\n",
    "                loss= keras.losses.SparseCategoricalCrossentropy(from_logits = True),\n",
    "                metrics=['accuracy'])\n",
    "  return model"
   ]
  },
  {
   "cell_type": "code",
   "execution_count": null,
   "metadata": {
    "id": "DUxwx-0jtkVE"
   },
   "outputs": [],
   "source": [
    "import kerastuner as kt\n",
    "from tensorflow import keras\n",
    "tuner = kt.Hyperband(model_builder,\n",
    "                     objective = 'val_accuracy', \n",
    "                     max_epochs = 20,\n",
    "                     factor = 3,\n",
    "                     directory = 'my_dir',\n",
    "                     project_name = 'intro_to_kt')"
   ]
  },
  {
   "cell_type": "code",
   "execution_count": null,
   "metadata": {
    "id": "2EtF7D69uG_u"
   },
   "outputs": [],
   "source": [
    "tuner.search(X_train, y_train, epochs = 50, validation_data = (X_test, y_test), callbacks = [ClearTrainingOutput()])\n",
    "\n",
    "# Get the optimal hyperparameters\n",
    "best_hps = tuner.get_best_hyperparameters(num_trials = 1)[0]\n",
    "\n",
    "print(f\"\"\"\n",
    "The hyperparameter search is complete. The optimal number of units in the first densely-connected\n",
    "layer is {best_hps.get('units')} and the optimal learning rate for the optimizer\n",
    "is {best_hps.get('learning_rate')}.\n",
    "\"\"\")"
   ]
  },
  {
   "cell_type": "code",
   "execution_count": null,
   "metadata": {
    "id": "ngaCN3WHuppF"
   },
   "outputs": [],
   "source": [
    "import IPython\n",
    "class ClearTrainingOutput(tf.keras.callbacks.Callback):\n",
    "  def on_train_end(*args, **kwargs):\n",
    "    IPython.display.clear_output(wait = True)"
   ]
  },
  {
   "cell_type": "code",
   "execution_count": null,
   "metadata": {
    "id": "EqgEq6BY8WFP"
   },
   "outputs": [],
   "source": [
    "tuner.get_best_hyperparameters()[0].values"
   ]
  }
 ],
 "metadata": {
  "accelerator": "GPU",
  "colab": {
   "collapsed_sections": [
    "cofvrIcWdsVY",
    "bLrjUPWb7USy"
   ],
   "name": "Activity_Recognition.ipynb",
   "provenance": [],
   "toc_visible": true
  },
  "kernelspec": {
   "display_name": "Python 3",
   "language": "python",
   "name": "python3"
  },
  "language_info": {
   "codemirror_mode": {
    "name": "ipython",
    "version": 3
   },
   "file_extension": ".py",
   "mimetype": "text/x-python",
   "name": "python",
   "nbconvert_exporter": "python",
   "pygments_lexer": "ipython3",
   "version": "3.8.5"
  }
 },
 "nbformat": 4,
 "nbformat_minor": 1
}
